{
 "cells": [
  {
   "cell_type": "code",
   "execution_count": 3,
   "metadata": {},
   "outputs": [],
   "source": [
    "#import dataset and reset index\n",
    "import pandas as pd\n",
    "players_df = pd.read_pickle(\"players_df.pkl\")\n",
    "players_df = players_df.reset_index()"
   ]
  },
  {
   "cell_type": "code",
   "execution_count": 4,
   "metadata": {},
   "outputs": [],
   "source": [
    "#we remove rows based on Nas on these specific columns\n",
    "players_df = players_df.dropna(subset=[\"stats.wardsPlaced\",\"stats.wardsKilled\"])"
   ]
  },
  {
   "cell_type": "code",
   "execution_count": 5,
   "metadata": {},
   "outputs": [],
   "source": [
    "#create subsets to work with, select columns we want\n",
    "x = players_df[[\"stats.kills\",\"stats.assists\",\"stats.magicDamageDealt\",\"stats.physicalDamageDealt\",\"stats.damageDealtToTurrets\",\"stats.totalDamageTaken\",\"stats.turretKills\",\"stats.totalMinionsKilled\"]]\n",
    "y = players_df[[\"championId\",\"spell1Id\",\"spell2Id\",\"timeline.role\",\"timeline.lane\"]]"
   ]
  },
  {
   "cell_type": "code",
   "execution_count": 120,
   "metadata": {},
   "outputs": [],
   "source": [
    "#We add a new column to y with the type of champion for each entry\n",
    "import json \n",
    "df = pd.read_json('https://ddragon.leagueoflegends.com/cdn/12.8.1/data/en_US/champion.json')"
   ]
  },
  {
   "cell_type": "code",
   "execution_count": 121,
   "metadata": {},
   "outputs": [
    {
     "data": {
      "text/html": [
       "<div>\n",
       "<style scoped>\n",
       "    .dataframe tbody tr th:only-of-type {\n",
       "        vertical-align: middle;\n",
       "    }\n",
       "\n",
       "    .dataframe tbody tr th {\n",
       "        vertical-align: top;\n",
       "    }\n",
       "\n",
       "    .dataframe thead th {\n",
       "        text-align: right;\n",
       "    }\n",
       "</style>\n",
       "<table border=\"1\" class=\"dataframe\">\n",
       "  <thead>\n",
       "    <tr style=\"text-align: right;\">\n",
       "      <th></th>\n",
       "      <th>version</th>\n",
       "      <th>id</th>\n",
       "      <th>key</th>\n",
       "      <th>name</th>\n",
       "      <th>title</th>\n",
       "      <th>blurb</th>\n",
       "      <th>info</th>\n",
       "      <th>image</th>\n",
       "      <th>tags</th>\n",
       "      <th>partype</th>\n",
       "      <th>stats</th>\n",
       "    </tr>\n",
       "  </thead>\n",
       "  <tbody>\n",
       "    <tr>\n",
       "      <th>0</th>\n",
       "      <td>12.8.1</td>\n",
       "      <td>Aatrox</td>\n",
       "      <td>266</td>\n",
       "      <td>Aatrox</td>\n",
       "      <td>the Darkin Blade</td>\n",
       "      <td>Once honored defenders of Shurima against the ...</td>\n",
       "      <td>{'attack': 8, 'defense': 4, 'magic': 3, 'diffi...</td>\n",
       "      <td>{'full': 'Aatrox.png', 'sprite': 'champion0.pn...</td>\n",
       "      <td>[Fighter, Tank]</td>\n",
       "      <td>Blood Well</td>\n",
       "      <td>{'hp': 580, 'hpperlevel': 90, 'mp': 0, 'mpperl...</td>\n",
       "    </tr>\n",
       "    <tr>\n",
       "      <th>1</th>\n",
       "      <td>12.8.1</td>\n",
       "      <td>Ahri</td>\n",
       "      <td>103</td>\n",
       "      <td>Ahri</td>\n",
       "      <td>the Nine-Tailed Fox</td>\n",
       "      <td>Innately connected to the latent power of Rune...</td>\n",
       "      <td>{'attack': 3, 'defense': 4, 'magic': 8, 'diffi...</td>\n",
       "      <td>{'full': 'Ahri.png', 'sprite': 'champion0.png'...</td>\n",
       "      <td>[Mage, Assassin]</td>\n",
       "      <td>Mana</td>\n",
       "      <td>{'hp': 500, 'hpperlevel': 82, 'mp': 418, 'mppe...</td>\n",
       "    </tr>\n",
       "    <tr>\n",
       "      <th>2</th>\n",
       "      <td>12.8.1</td>\n",
       "      <td>Akali</td>\n",
       "      <td>84</td>\n",
       "      <td>Akali</td>\n",
       "      <td>the Rogue Assassin</td>\n",
       "      <td>Abandoning the Kinkou Order and her title of t...</td>\n",
       "      <td>{'attack': 5, 'defense': 3, 'magic': 8, 'diffi...</td>\n",
       "      <td>{'full': 'Akali.png', 'sprite': 'champion0.png...</td>\n",
       "      <td>[Assassin]</td>\n",
       "      <td>Energy</td>\n",
       "      <td>{'hp': 500, 'hpperlevel': 105, 'mp': 200, 'mpp...</td>\n",
       "    </tr>\n",
       "    <tr>\n",
       "      <th>3</th>\n",
       "      <td>12.8.1</td>\n",
       "      <td>Akshan</td>\n",
       "      <td>166</td>\n",
       "      <td>Akshan</td>\n",
       "      <td>the Rogue Sentinel</td>\n",
       "      <td>Raising an eyebrow in the face of danger, Aksh...</td>\n",
       "      <td>{'attack': 0, 'defense': 0, 'magic': 0, 'diffi...</td>\n",
       "      <td>{'full': 'Akshan.png', 'sprite': 'champion0.pn...</td>\n",
       "      <td>[Marksman, Assassin]</td>\n",
       "      <td>Mana</td>\n",
       "      <td>{'hp': 560, 'hpperlevel': 90, 'mp': 350, 'mppe...</td>\n",
       "    </tr>\n",
       "    <tr>\n",
       "      <th>4</th>\n",
       "      <td>12.8.1</td>\n",
       "      <td>Alistar</td>\n",
       "      <td>12</td>\n",
       "      <td>Alistar</td>\n",
       "      <td>the Minotaur</td>\n",
       "      <td>Always a mighty warrior with a fearsome reputa...</td>\n",
       "      <td>{'attack': 6, 'defense': 9, 'magic': 5, 'diffi...</td>\n",
       "      <td>{'full': 'Alistar.png', 'sprite': 'champion0.p...</td>\n",
       "      <td>[Tank, Support]</td>\n",
       "      <td>Mana</td>\n",
       "      <td>{'hp': 600, 'hpperlevel': 106, 'mp': 350, 'mpp...</td>\n",
       "    </tr>\n",
       "    <tr>\n",
       "      <th>...</th>\n",
       "      <td>...</td>\n",
       "      <td>...</td>\n",
       "      <td>...</td>\n",
       "      <td>...</td>\n",
       "      <td>...</td>\n",
       "      <td>...</td>\n",
       "      <td>...</td>\n",
       "      <td>...</td>\n",
       "      <td>...</td>\n",
       "      <td>...</td>\n",
       "      <td>...</td>\n",
       "    </tr>\n",
       "    <tr>\n",
       "      <th>154</th>\n",
       "      <td>12.8.1</td>\n",
       "      <td>Zeri</td>\n",
       "      <td>221</td>\n",
       "      <td>Zeri</td>\n",
       "      <td>The Spark of Zaun</td>\n",
       "      <td>A headstrong, spirited young woman from Zaun's...</td>\n",
       "      <td>{'attack': 8, 'defense': 5, 'magic': 3, 'diffi...</td>\n",
       "      <td>{'full': 'Zeri.png', 'sprite': 'champion5.png'...</td>\n",
       "      <td>[Marksman]</td>\n",
       "      <td>Mana</td>\n",
       "      <td>{'hp': 530, 'hpperlevel': 95, 'mp': 250, 'mppe...</td>\n",
       "    </tr>\n",
       "    <tr>\n",
       "      <th>155</th>\n",
       "      <td>12.8.1</td>\n",
       "      <td>Ziggs</td>\n",
       "      <td>115</td>\n",
       "      <td>Ziggs</td>\n",
       "      <td>the Hexplosives Expert</td>\n",
       "      <td>With a love of big bombs and short fuses, the ...</td>\n",
       "      <td>{'attack': 2, 'defense': 4, 'magic': 9, 'diffi...</td>\n",
       "      <td>{'full': 'Ziggs.png', 'sprite': 'champion5.png...</td>\n",
       "      <td>[Mage]</td>\n",
       "      <td>Mana</td>\n",
       "      <td>{'hp': 536, 'hpperlevel': 92, 'mp': 480, 'mppe...</td>\n",
       "    </tr>\n",
       "    <tr>\n",
       "      <th>156</th>\n",
       "      <td>12.8.1</td>\n",
       "      <td>Zilean</td>\n",
       "      <td>26</td>\n",
       "      <td>Zilean</td>\n",
       "      <td>the Chronokeeper</td>\n",
       "      <td>Once a powerful Icathian mage, Zilean became o...</td>\n",
       "      <td>{'attack': 2, 'defense': 5, 'magic': 8, 'diffi...</td>\n",
       "      <td>{'full': 'Zilean.png', 'sprite': 'champion5.pn...</td>\n",
       "      <td>[Support, Mage]</td>\n",
       "      <td>Mana</td>\n",
       "      <td>{'hp': 504, 'hpperlevel': 82, 'mp': 452, 'mppe...</td>\n",
       "    </tr>\n",
       "    <tr>\n",
       "      <th>157</th>\n",
       "      <td>12.8.1</td>\n",
       "      <td>Zoe</td>\n",
       "      <td>142</td>\n",
       "      <td>Zoe</td>\n",
       "      <td>the Aspect of Twilight</td>\n",
       "      <td>As the embodiment of mischief, imagination, an...</td>\n",
       "      <td>{'attack': 1, 'defense': 7, 'magic': 8, 'diffi...</td>\n",
       "      <td>{'full': 'Zoe.png', 'sprite': 'champion5.png',...</td>\n",
       "      <td>[Mage, Support]</td>\n",
       "      <td>Mana</td>\n",
       "      <td>{'hp': 560, 'hpperlevel': 92, 'mp': 425, 'mppe...</td>\n",
       "    </tr>\n",
       "    <tr>\n",
       "      <th>158</th>\n",
       "      <td>12.8.1</td>\n",
       "      <td>Zyra</td>\n",
       "      <td>143</td>\n",
       "      <td>Zyra</td>\n",
       "      <td>Rise of the Thorns</td>\n",
       "      <td>Born in an ancient, sorcerous catastrophe, Zyr...</td>\n",
       "      <td>{'attack': 4, 'defense': 3, 'magic': 8, 'diffi...</td>\n",
       "      <td>{'full': 'Zyra.png', 'sprite': 'champion5.png'...</td>\n",
       "      <td>[Mage, Support]</td>\n",
       "      <td>Mana</td>\n",
       "      <td>{'hp': 504, 'hpperlevel': 79, 'mp': 418, 'mppe...</td>\n",
       "    </tr>\n",
       "  </tbody>\n",
       "</table>\n",
       "<p>159 rows × 11 columns</p>\n",
       "</div>"
      ],
      "text/plain": [
       "    version       id  key     name                   title  \\\n",
       "0    12.8.1   Aatrox  266   Aatrox        the Darkin Blade   \n",
       "1    12.8.1     Ahri  103     Ahri     the Nine-Tailed Fox   \n",
       "2    12.8.1    Akali   84    Akali      the Rogue Assassin   \n",
       "3    12.8.1   Akshan  166   Akshan      the Rogue Sentinel   \n",
       "4    12.8.1  Alistar   12  Alistar            the Minotaur   \n",
       "..      ...      ...  ...      ...                     ...   \n",
       "154  12.8.1     Zeri  221     Zeri       The Spark of Zaun   \n",
       "155  12.8.1    Ziggs  115    Ziggs  the Hexplosives Expert   \n",
       "156  12.8.1   Zilean   26   Zilean        the Chronokeeper   \n",
       "157  12.8.1      Zoe  142      Zoe  the Aspect of Twilight   \n",
       "158  12.8.1     Zyra  143     Zyra      Rise of the Thorns   \n",
       "\n",
       "                                                 blurb  \\\n",
       "0    Once honored defenders of Shurima against the ...   \n",
       "1    Innately connected to the latent power of Rune...   \n",
       "2    Abandoning the Kinkou Order and her title of t...   \n",
       "3    Raising an eyebrow in the face of danger, Aksh...   \n",
       "4    Always a mighty warrior with a fearsome reputa...   \n",
       "..                                                 ...   \n",
       "154  A headstrong, spirited young woman from Zaun's...   \n",
       "155  With a love of big bombs and short fuses, the ...   \n",
       "156  Once a powerful Icathian mage, Zilean became o...   \n",
       "157  As the embodiment of mischief, imagination, an...   \n",
       "158  Born in an ancient, sorcerous catastrophe, Zyr...   \n",
       "\n",
       "                                                  info  \\\n",
       "0    {'attack': 8, 'defense': 4, 'magic': 3, 'diffi...   \n",
       "1    {'attack': 3, 'defense': 4, 'magic': 8, 'diffi...   \n",
       "2    {'attack': 5, 'defense': 3, 'magic': 8, 'diffi...   \n",
       "3    {'attack': 0, 'defense': 0, 'magic': 0, 'diffi...   \n",
       "4    {'attack': 6, 'defense': 9, 'magic': 5, 'diffi...   \n",
       "..                                                 ...   \n",
       "154  {'attack': 8, 'defense': 5, 'magic': 3, 'diffi...   \n",
       "155  {'attack': 2, 'defense': 4, 'magic': 9, 'diffi...   \n",
       "156  {'attack': 2, 'defense': 5, 'magic': 8, 'diffi...   \n",
       "157  {'attack': 1, 'defense': 7, 'magic': 8, 'diffi...   \n",
       "158  {'attack': 4, 'defense': 3, 'magic': 8, 'diffi...   \n",
       "\n",
       "                                                 image                  tags  \\\n",
       "0    {'full': 'Aatrox.png', 'sprite': 'champion0.pn...       [Fighter, Tank]   \n",
       "1    {'full': 'Ahri.png', 'sprite': 'champion0.png'...      [Mage, Assassin]   \n",
       "2    {'full': 'Akali.png', 'sprite': 'champion0.png...            [Assassin]   \n",
       "3    {'full': 'Akshan.png', 'sprite': 'champion0.pn...  [Marksman, Assassin]   \n",
       "4    {'full': 'Alistar.png', 'sprite': 'champion0.p...       [Tank, Support]   \n",
       "..                                                 ...                   ...   \n",
       "154  {'full': 'Zeri.png', 'sprite': 'champion5.png'...            [Marksman]   \n",
       "155  {'full': 'Ziggs.png', 'sprite': 'champion5.png...                [Mage]   \n",
       "156  {'full': 'Zilean.png', 'sprite': 'champion5.pn...       [Support, Mage]   \n",
       "157  {'full': 'Zoe.png', 'sprite': 'champion5.png',...       [Mage, Support]   \n",
       "158  {'full': 'Zyra.png', 'sprite': 'champion5.png'...       [Mage, Support]   \n",
       "\n",
       "        partype                                              stats  \n",
       "0    Blood Well  {'hp': 580, 'hpperlevel': 90, 'mp': 0, 'mpperl...  \n",
       "1          Mana  {'hp': 500, 'hpperlevel': 82, 'mp': 418, 'mppe...  \n",
       "2        Energy  {'hp': 500, 'hpperlevel': 105, 'mp': 200, 'mpp...  \n",
       "3          Mana  {'hp': 560, 'hpperlevel': 90, 'mp': 350, 'mppe...  \n",
       "4          Mana  {'hp': 600, 'hpperlevel': 106, 'mp': 350, 'mpp...  \n",
       "..          ...                                                ...  \n",
       "154        Mana  {'hp': 530, 'hpperlevel': 95, 'mp': 250, 'mppe...  \n",
       "155        Mana  {'hp': 536, 'hpperlevel': 92, 'mp': 480, 'mppe...  \n",
       "156        Mana  {'hp': 504, 'hpperlevel': 82, 'mp': 452, 'mppe...  \n",
       "157        Mana  {'hp': 560, 'hpperlevel': 92, 'mp': 425, 'mppe...  \n",
       "158        Mana  {'hp': 504, 'hpperlevel': 79, 'mp': 418, 'mppe...  \n",
       "\n",
       "[159 rows x 11 columns]"
      ]
     },
     "execution_count": 121,
     "metadata": {},
     "output_type": "execute_result"
    }
   ],
   "source": [
    "#this is not working\n",
    "#pd.DataFrame.from_dict(df.iloc[0][\"data\"])\n",
    "\n",
    "#i will do it manually\n",
    "champ_info_df = pd.DataFrame(columns = df[\"data\"].iloc[0].keys())\n",
    "for idx in range(len(df)):\n",
    "    aux = []\n",
    "    for col in champ_info_df.columns:\n",
    "        aux.append(df.iloc[idx][\"data\"][col])\n",
    "        #print(df.iloc[idx][\"data\"][col])\n",
    "    champ_info_df.loc[idx] =  aux\n",
    "\n",
    "#print(aux)\n",
    "champ_info_df\n",
    "   "
   ]
  },
  {
   "cell_type": "code",
   "execution_count": 122,
   "metadata": {},
   "outputs": [
    {
     "data": {
      "text/plain": [
       "266    1\n",
       "35     1\n",
       "68     1\n",
       "13     1\n",
       "360    1\n",
       "      ..\n",
       "38     1\n",
       "55     1\n",
       "10     1\n",
       "141    1\n",
       "143    1\n",
       "Name: key, Length: 159, dtype: int64"
      ]
     },
     "execution_count": 122,
     "metadata": {},
     "output_type": "execute_result"
    }
   ],
   "source": [
    "#we haven't got repeated keys\n",
    "champ_info_df[\"key\"].value_counts()"
   ]
  },
  {
   "cell_type": "code",
   "execution_count": 123,
   "metadata": {},
   "outputs": [
    {
     "data": {
      "text/plain": [
       "Int64Index([    410,     958,    1249,    1384,    8985,   10715,   24712,\n",
       "              34766,   34822,   35009,\n",
       "            ...\n",
       "            1583360, 1585789, 1586468, 1587008, 1589248, 1591133, 1591910,\n",
       "            1592458, 1592749, 1592884],\n",
       "           dtype='int64', length=1680)"
      ]
     },
     "execution_count": 123,
     "metadata": {},
     "output_type": "execute_result"
    }
   ],
   "source": [
    "y[y[\"championId\"] == int(champ_info_df.iloc[idx][\"key\"])].index"
   ]
  },
  {
   "cell_type": "code",
   "execution_count": 124,
   "metadata": {},
   "outputs": [
    {
     "name": "stderr",
     "output_type": "stream",
     "text": [
      "/var/folders/nc/l6y7znsd68z5g8ldgmy_rwyr0000gn/T/ipykernel_1056/1315687680.py:4: SettingWithCopyWarning: \n",
      "A value is trying to be set on a copy of a slice from a DataFrame.\n",
      "Try using .loc[row_indexer,col_indexer] = value instead\n",
      "\n",
      "See the caveats in the documentation: https://pandas.pydata.org/pandas-docs/stable/user_guide/indexing.html#returning-a-view-versus-a-copy\n",
      "  y.loc[indexes,[\"name\"]] = champ_info_df.iloc[idx][\"name\"]\n",
      "/var/folders/nc/l6y7znsd68z5g8ldgmy_rwyr0000gn/T/ipykernel_1056/1315687680.py:5: SettingWithCopyWarning: \n",
      "A value is trying to be set on a copy of a slice from a DataFrame.\n",
      "Try using .loc[row_indexer,col_indexer] = value instead\n",
      "\n",
      "See the caveats in the documentation: https://pandas.pydata.org/pandas-docs/stable/user_guide/indexing.html#returning-a-view-versus-a-copy\n",
      "  y.loc[indexes,[\"partype\"]] = champ_info_df.iloc[idx][\"partype\"]\n",
      "/var/folders/nc/l6y7znsd68z5g8ldgmy_rwyr0000gn/T/ipykernel_1056/1315687680.py:6: SettingWithCopyWarning: \n",
      "A value is trying to be set on a copy of a slice from a DataFrame.\n",
      "Try using .loc[row_indexer,col_indexer] = value instead\n",
      "\n",
      "See the caveats in the documentation: https://pandas.pydata.org/pandas-docs/stable/user_guide/indexing.html#returning-a-view-versus-a-copy\n",
      "  y.loc[indexes,[\"tag\"]] = champ_info_df.iloc[idx][\"tags\"][0] #we get only the first tag\n"
     ]
    }
   ],
   "source": [
    "#for each entry in y we will add the champ name and the type\n",
    "for idx in range(len(champ_info_df)):\n",
    "    indexes = y[y[\"championId\"] == int(champ_info_df.iloc[idx][\"key\"])].index #positions of the dataframe where the selected champid of champ_info_df lies\n",
    "    y.loc[indexes,[\"name\"]] = champ_info_df.iloc[idx][\"name\"]\n",
    "    y.loc[indexes,[\"partype\"]] = champ_info_df.iloc[idx][\"partype\"]\n",
    "    y.loc[indexes,[\"tag\"]] = champ_info_df.iloc[idx][\"tags\"][0] #we get only the first tag\n"
   ]
  },
  {
   "cell_type": "code",
   "execution_count": 125,
   "metadata": {},
   "outputs": [
    {
     "data": {
      "text/html": [
       "<div>\n",
       "<style scoped>\n",
       "    .dataframe tbody tr th:only-of-type {\n",
       "        vertical-align: middle;\n",
       "    }\n",
       "\n",
       "    .dataframe tbody tr th {\n",
       "        vertical-align: top;\n",
       "    }\n",
       "\n",
       "    .dataframe thead th {\n",
       "        text-align: right;\n",
       "    }\n",
       "</style>\n",
       "<table border=\"1\" class=\"dataframe\">\n",
       "  <thead>\n",
       "    <tr style=\"text-align: right;\">\n",
       "      <th></th>\n",
       "      <th>championId</th>\n",
       "      <th>spell1Id</th>\n",
       "      <th>spell2Id</th>\n",
       "      <th>timeline.role</th>\n",
       "      <th>timeline.lane</th>\n",
       "      <th>name</th>\n",
       "      <th>partype</th>\n",
       "      <th>tag</th>\n",
       "    </tr>\n",
       "  </thead>\n",
       "  <tbody>\n",
       "    <tr>\n",
       "      <th>0</th>\n",
       "      <td>39</td>\n",
       "      <td>12</td>\n",
       "      <td>4</td>\n",
       "      <td>SOLO</td>\n",
       "      <td>TOP</td>\n",
       "      <td>Irelia</td>\n",
       "      <td>Mana</td>\n",
       "      <td>Fighter</td>\n",
       "    </tr>\n",
       "    <tr>\n",
       "      <th>1</th>\n",
       "      <td>68</td>\n",
       "      <td>12</td>\n",
       "      <td>4</td>\n",
       "      <td>SOLO</td>\n",
       "      <td>MIDDLE</td>\n",
       "      <td>Rumble</td>\n",
       "      <td>Heat</td>\n",
       "      <td>Fighter</td>\n",
       "    </tr>\n",
       "    <tr>\n",
       "      <th>2</th>\n",
       "      <td>350</td>\n",
       "      <td>7</td>\n",
       "      <td>14</td>\n",
       "      <td>DUO_SUPPORT</td>\n",
       "      <td>BOTTOM</td>\n",
       "      <td>Yuumi</td>\n",
       "      <td>Mana</td>\n",
       "      <td>Support</td>\n",
       "    </tr>\n",
       "    <tr>\n",
       "      <th>3</th>\n",
       "      <td>81</td>\n",
       "      <td>12</td>\n",
       "      <td>4</td>\n",
       "      <td>DUO_CARRY</td>\n",
       "      <td>BOTTOM</td>\n",
       "      <td>Ezreal</td>\n",
       "      <td>Mana</td>\n",
       "      <td>Marksman</td>\n",
       "    </tr>\n",
       "    <tr>\n",
       "      <th>4</th>\n",
       "      <td>113</td>\n",
       "      <td>4</td>\n",
       "      <td>11</td>\n",
       "      <td>NONE</td>\n",
       "      <td>JUNGLE</td>\n",
       "      <td>Sejuani</td>\n",
       "      <td>Mana</td>\n",
       "      <td>Tank</td>\n",
       "    </tr>\n",
       "    <tr>\n",
       "      <th>...</th>\n",
       "      <td>...</td>\n",
       "      <td>...</td>\n",
       "      <td>...</td>\n",
       "      <td>...</td>\n",
       "      <td>...</td>\n",
       "      <td>...</td>\n",
       "      <td>...</td>\n",
       "      <td>...</td>\n",
       "    </tr>\n",
       "    <tr>\n",
       "      <th>1593135</th>\n",
       "      <td>12</td>\n",
       "      <td>14</td>\n",
       "      <td>4</td>\n",
       "      <td>DUO_SUPPORT</td>\n",
       "      <td>MIDDLE</td>\n",
       "      <td>Alistar</td>\n",
       "      <td>Mana</td>\n",
       "      <td>Tank</td>\n",
       "    </tr>\n",
       "    <tr>\n",
       "      <th>1593136</th>\n",
       "      <td>51</td>\n",
       "      <td>3</td>\n",
       "      <td>4</td>\n",
       "      <td>DUO_SUPPORT</td>\n",
       "      <td>MIDDLE</td>\n",
       "      <td>Caitlyn</td>\n",
       "      <td>Mana</td>\n",
       "      <td>Marksman</td>\n",
       "    </tr>\n",
       "    <tr>\n",
       "      <th>1593137</th>\n",
       "      <td>141</td>\n",
       "      <td>3</td>\n",
       "      <td>4</td>\n",
       "      <td>DUO</td>\n",
       "      <td>MIDDLE</td>\n",
       "      <td>Kayn</td>\n",
       "      <td>Mana</td>\n",
       "      <td>Fighter</td>\n",
       "    </tr>\n",
       "    <tr>\n",
       "      <th>1593138</th>\n",
       "      <td>22</td>\n",
       "      <td>3</td>\n",
       "      <td>4</td>\n",
       "      <td>NONE</td>\n",
       "      <td>JUNGLE</td>\n",
       "      <td>Ashe</td>\n",
       "      <td>Mana</td>\n",
       "      <td>Marksman</td>\n",
       "    </tr>\n",
       "    <tr>\n",
       "      <th>1593139</th>\n",
       "      <td>81</td>\n",
       "      <td>3</td>\n",
       "      <td>4</td>\n",
       "      <td>SOLO</td>\n",
       "      <td>BOTTOM</td>\n",
       "      <td>Ezreal</td>\n",
       "      <td>Mana</td>\n",
       "      <td>Marksman</td>\n",
       "    </tr>\n",
       "  </tbody>\n",
       "</table>\n",
       "<p>1409766 rows × 8 columns</p>\n",
       "</div>"
      ],
      "text/plain": [
       "         championId  spell1Id  spell2Id timeline.role timeline.lane     name  \\\n",
       "0                39        12         4          SOLO           TOP   Irelia   \n",
       "1                68        12         4          SOLO        MIDDLE   Rumble   \n",
       "2               350         7        14   DUO_SUPPORT        BOTTOM    Yuumi   \n",
       "3                81        12         4     DUO_CARRY        BOTTOM   Ezreal   \n",
       "4               113         4        11          NONE        JUNGLE  Sejuani   \n",
       "...             ...       ...       ...           ...           ...      ...   \n",
       "1593135          12        14         4   DUO_SUPPORT        MIDDLE  Alistar   \n",
       "1593136          51         3         4   DUO_SUPPORT        MIDDLE  Caitlyn   \n",
       "1593137         141         3         4           DUO        MIDDLE     Kayn   \n",
       "1593138          22         3         4          NONE        JUNGLE     Ashe   \n",
       "1593139          81         3         4          SOLO        BOTTOM   Ezreal   \n",
       "\n",
       "        partype       tag  \n",
       "0          Mana   Fighter  \n",
       "1          Heat   Fighter  \n",
       "2          Mana   Support  \n",
       "3          Mana  Marksman  \n",
       "4          Mana      Tank  \n",
       "...         ...       ...  \n",
       "1593135    Mana      Tank  \n",
       "1593136    Mana  Marksman  \n",
       "1593137    Mana   Fighter  \n",
       "1593138    Mana  Marksman  \n",
       "1593139    Mana  Marksman  \n",
       "\n",
       "[1409766 rows x 8 columns]"
      ]
     },
     "execution_count": 125,
     "metadata": {},
     "output_type": "execute_result"
    }
   ],
   "source": [
    "y"
   ]
  },
  {
   "cell_type": "code",
   "execution_count": 126,
   "metadata": {},
   "outputs": [],
   "source": [
    "#import necessary libraries\n",
    "from sklearn.preprocessing import StandardScaler\n",
    "from sklearn.decomposition import PCA"
   ]
  },
  {
   "cell_type": "code",
   "execution_count": 127,
   "metadata": {},
   "outputs": [
    {
     "data": {
      "text/html": [
       "<div>\n",
       "<style scoped>\n",
       "    .dataframe tbody tr th:only-of-type {\n",
       "        vertical-align: middle;\n",
       "    }\n",
       "\n",
       "    .dataframe tbody tr th {\n",
       "        vertical-align: top;\n",
       "    }\n",
       "\n",
       "    .dataframe thead th {\n",
       "        text-align: right;\n",
       "    }\n",
       "</style>\n",
       "<table border=\"1\" class=\"dataframe\">\n",
       "  <thead>\n",
       "    <tr style=\"text-align: right;\">\n",
       "      <th></th>\n",
       "      <th>PC1</th>\n",
       "      <th>PC2</th>\n",
       "      <th>PC3</th>\n",
       "      <th>championId</th>\n",
       "      <th>spell1Id</th>\n",
       "      <th>spell2Id</th>\n",
       "      <th>timeline.role</th>\n",
       "      <th>timeline.lane</th>\n",
       "      <th>name</th>\n",
       "      <th>partype</th>\n",
       "      <th>tag</th>\n",
       "    </tr>\n",
       "  </thead>\n",
       "  <tbody>\n",
       "    <tr>\n",
       "      <th>0</th>\n",
       "      <td>2.019674</td>\n",
       "      <td>-0.340996</td>\n",
       "      <td>-0.211835</td>\n",
       "      <td>39</td>\n",
       "      <td>12</td>\n",
       "      <td>4</td>\n",
       "      <td>SOLO</td>\n",
       "      <td>TOP</td>\n",
       "      <td>Irelia</td>\n",
       "      <td>Mana</td>\n",
       "      <td>Fighter</td>\n",
       "    </tr>\n",
       "    <tr>\n",
       "      <th>1</th>\n",
       "      <td>0.099603</td>\n",
       "      <td>1.433239</td>\n",
       "      <td>1.600229</td>\n",
       "      <td>68</td>\n",
       "      <td>12</td>\n",
       "      <td>4</td>\n",
       "      <td>SOLO</td>\n",
       "      <td>MIDDLE</td>\n",
       "      <td>Rumble</td>\n",
       "      <td>Heat</td>\n",
       "      <td>Fighter</td>\n",
       "    </tr>\n",
       "    <tr>\n",
       "      <th>2</th>\n",
       "      <td>-1.954180</td>\n",
       "      <td>0.313756</td>\n",
       "      <td>-0.489411</td>\n",
       "      <td>350</td>\n",
       "      <td>7</td>\n",
       "      <td>14</td>\n",
       "      <td>DUO_SUPPORT</td>\n",
       "      <td>BOTTOM</td>\n",
       "      <td>Yuumi</td>\n",
       "      <td>Mana</td>\n",
       "      <td>Support</td>\n",
       "    </tr>\n",
       "    <tr>\n",
       "      <th>3</th>\n",
       "      <td>-0.143213</td>\n",
       "      <td>-0.317958</td>\n",
       "      <td>-0.584041</td>\n",
       "      <td>81</td>\n",
       "      <td>12</td>\n",
       "      <td>4</td>\n",
       "      <td>DUO_CARRY</td>\n",
       "      <td>BOTTOM</td>\n",
       "      <td>Ezreal</td>\n",
       "      <td>Mana</td>\n",
       "      <td>Marksman</td>\n",
       "    </tr>\n",
       "    <tr>\n",
       "      <th>4</th>\n",
       "      <td>-1.313363</td>\n",
       "      <td>0.686301</td>\n",
       "      <td>-0.796011</td>\n",
       "      <td>113</td>\n",
       "      <td>4</td>\n",
       "      <td>11</td>\n",
       "      <td>NONE</td>\n",
       "      <td>JUNGLE</td>\n",
       "      <td>Sejuani</td>\n",
       "      <td>Mana</td>\n",
       "      <td>Tank</td>\n",
       "    </tr>\n",
       "    <tr>\n",
       "      <th>...</th>\n",
       "      <td>...</td>\n",
       "      <td>...</td>\n",
       "      <td>...</td>\n",
       "      <td>...</td>\n",
       "      <td>...</td>\n",
       "      <td>...</td>\n",
       "      <td>...</td>\n",
       "      <td>...</td>\n",
       "      <td>...</td>\n",
       "      <td>...</td>\n",
       "      <td>...</td>\n",
       "    </tr>\n",
       "    <tr>\n",
       "      <th>1409761</th>\n",
       "      <td>1.861460</td>\n",
       "      <td>4.520775</td>\n",
       "      <td>-1.358939</td>\n",
       "      <td>133</td>\n",
       "      <td>4</td>\n",
       "      <td>14</td>\n",
       "      <td>DUO_SUPPORT</td>\n",
       "      <td>NONE</td>\n",
       "      <td>Quinn</td>\n",
       "      <td>Mana</td>\n",
       "      <td>Marksman</td>\n",
       "    </tr>\n",
       "    <tr>\n",
       "      <th>1409762</th>\n",
       "      <td>3.516434</td>\n",
       "      <td>0.824213</td>\n",
       "      <td>-2.326434</td>\n",
       "      <td>412</td>\n",
       "      <td>14</td>\n",
       "      <td>4</td>\n",
       "      <td>DUO_SUPPORT</td>\n",
       "      <td>NONE</td>\n",
       "      <td>Thresh</td>\n",
       "      <td>Mana</td>\n",
       "      <td>Support</td>\n",
       "    </tr>\n",
       "    <tr>\n",
       "      <th>1409763</th>\n",
       "      <td>2.854567</td>\n",
       "      <td>3.003605</td>\n",
       "      <td>-3.353208</td>\n",
       "      <td>119</td>\n",
       "      <td>7</td>\n",
       "      <td>4</td>\n",
       "      <td>DUO_SUPPORT</td>\n",
       "      <td>NONE</td>\n",
       "      <td>Draven</td>\n",
       "      <td>Mana</td>\n",
       "      <td>Marksman</td>\n",
       "    </tr>\n",
       "    <tr>\n",
       "      <th>1409764</th>\n",
       "      <td>2.270704</td>\n",
       "      <td>0.273648</td>\n",
       "      <td>-1.922549</td>\n",
       "      <td>106</td>\n",
       "      <td>14</td>\n",
       "      <td>4</td>\n",
       "      <td>DUO_SUPPORT</td>\n",
       "      <td>BOTTOM</td>\n",
       "      <td>Volibear</td>\n",
       "      <td>Mana</td>\n",
       "      <td>Fighter</td>\n",
       "    </tr>\n",
       "    <tr>\n",
       "      <th>1409765</th>\n",
       "      <td>1.880333</td>\n",
       "      <td>1.696090</td>\n",
       "      <td>-1.167049</td>\n",
       "      <td>24</td>\n",
       "      <td>12</td>\n",
       "      <td>4</td>\n",
       "      <td>NONE</td>\n",
       "      <td>JUNGLE</td>\n",
       "      <td>Jax</td>\n",
       "      <td>Mana</td>\n",
       "      <td>Fighter</td>\n",
       "    </tr>\n",
       "  </tbody>\n",
       "</table>\n",
       "<p>1245078 rows × 11 columns</p>\n",
       "</div>"
      ],
      "text/plain": [
       "              PC1       PC2       PC3  championId  spell1Id  spell2Id  \\\n",
       "0        2.019674 -0.340996 -0.211835          39        12         4   \n",
       "1        0.099603  1.433239  1.600229          68        12         4   \n",
       "2       -1.954180  0.313756 -0.489411         350         7        14   \n",
       "3       -0.143213 -0.317958 -0.584041          81        12         4   \n",
       "4       -1.313363  0.686301 -0.796011         113         4        11   \n",
       "...           ...       ...       ...         ...       ...       ...   \n",
       "1409761  1.861460  4.520775 -1.358939         133         4        14   \n",
       "1409762  3.516434  0.824213 -2.326434         412        14         4   \n",
       "1409763  2.854567  3.003605 -3.353208         119         7         4   \n",
       "1409764  2.270704  0.273648 -1.922549         106        14         4   \n",
       "1409765  1.880333  1.696090 -1.167049          24        12         4   \n",
       "\n",
       "        timeline.role timeline.lane      name partype       tag  \n",
       "0                SOLO           TOP    Irelia    Mana   Fighter  \n",
       "1                SOLO        MIDDLE    Rumble    Heat   Fighter  \n",
       "2         DUO_SUPPORT        BOTTOM     Yuumi    Mana   Support  \n",
       "3           DUO_CARRY        BOTTOM    Ezreal    Mana  Marksman  \n",
       "4                NONE        JUNGLE   Sejuani    Mana      Tank  \n",
       "...               ...           ...       ...     ...       ...  \n",
       "1409761   DUO_SUPPORT          NONE     Quinn    Mana  Marksman  \n",
       "1409762   DUO_SUPPORT          NONE    Thresh    Mana   Support  \n",
       "1409763   DUO_SUPPORT          NONE    Draven    Mana  Marksman  \n",
       "1409764   DUO_SUPPORT        BOTTOM  Volibear    Mana   Fighter  \n",
       "1409765          NONE        JUNGLE       Jax    Mana   Fighter  \n",
       "\n",
       "[1245078 rows x 11 columns]"
      ]
     },
     "execution_count": 127,
     "metadata": {},
     "output_type": "execute_result"
    }
   ],
   "source": [
    "#first we standarize all our data to prepare it for PCA\n",
    "scaler = StandardScaler()\n",
    "Xcentred = scaler.fit_transform(x)\n",
    "\n",
    "#we want to transform our data into three dimensions\n",
    "pca = PCA(n_components=3)\n",
    "\n",
    "#calculate\n",
    "pca.fit(Xcentred)\n",
    "\n",
    "#new dataset \n",
    "Xnew = pca.transform(Xcentred) #here it is a np array we want a pd dataframe\n",
    "Xnew = pd.DataFrame(Xnew,columns = [\"PC1\",\"PC2\",\"PC3\"])\n",
    "reduced_df =  pd.merge(Xnew, y, left_index=True, right_index=True)\n",
    "reduced_df"
   ]
  },
  {
   "cell_type": "code",
   "execution_count": 135,
   "metadata": {},
   "outputs": [
    {
     "data": {
      "application/vnd.plotly.v1+json": {
       "config": {
        "plotlyServerURL": "https://plot.ly"
       },
       "data": [
        {
         "hovertemplate": "tag=Fighter<br>PC1=%{x}<br>PC2=%{y}<br>PC3=%{z}<extra></extra>",
         "legendgroup": "Fighter",
         "marker": {
          "color": "#636efa",
          "symbol": "circle"
         },
         "mode": "markers",
         "name": "Fighter",
         "scene": "scene",
         "showlegend": true,
         "type": "scatter3d",
         "x": [
          2.0196735279898275,
          0.2565281869737196,
          -1.8234101670369551,
          -0.31533217673234404,
          -2.8551782970853443,
          -1.2785471585429,
          -1.0226261844403202,
          1.6659157041848962,
          -0.17068324533607435,
          -0.3881551394705291,
          -0.8951934484427968,
          -1.7162770898756645,
          1.7478862399572195,
          2.2085259170371874,
          -2.3831989609991933,
          -0.42851470534992697,
          0.0721290264812216,
          1.5144865778932024,
          -2.7848841642059092,
          2.4617606229757194,
          2.371027244645253,
          -2.8316204488490655,
          -1.8358413746780364,
          -1.247167816405523,
          -1.8506564282299496,
          0.42065000527411556,
          0.5918980607857112,
          -0.7879274591189471,
          -1.9701865373965415,
          -2.691853845300497,
          0.2837592862232743,
          -1.2727890850542243,
          3.4993201622220154,
          -0.8309555683276858,
          -0.1845006792755301,
          -0.32502641337992966,
          -0.07398557701439962,
          -1.271125136869474,
          1.4249544607587161,
          -2.8126452470793466,
          -0.16491888811185856,
          0.36219058123642095
         ],
         "y": [
          -0.3409962908277523,
          1.1676641063772644,
          -0.12466550496596193,
          -0.9361109099608894,
          -1.1856376203304049,
          0.20448023374240232,
          1.094547925661526,
          0.0672732189178486,
          -0.5238898125203684,
          0.13660517489020818,
          0.9174887139294621,
          0.274921341024569,
          -1.9393590821602864,
          -0.9952595761750275,
          -0.1541751630819202,
          -1.0371485156966387,
          -0.409659010639124,
          0.37966138504998803,
          -1.1173303340376457,
          -1.478569641333785,
          -0.7690053851256278,
          -1.1579709459385497,
          -0.9708227544852287,
          0.058925696542550754,
          -0.5200671368550266,
          0.9081689340156116,
          -1.4007754601377513,
          2.173158807666955,
          -0.47856381533645054,
          -1.0265938886371202,
          -0.1281737917995355,
          -1.0707706283676774,
          3.2873043246785567,
          2.7469126594619566,
          0.03958309970646723,
          0.1925232240827244,
          1.1061898429099357,
          1.5750001357443593,
          2.2129398536637814,
          -1.176224779538253,
          -1.1700200984824753,
          1.3103372426629456
         ],
         "z": [
          -0.21183467407869244,
          0.8176070931890521,
          -0.15329871264377187,
          0.04329039000180415,
          0.4777558742545972,
          -0.44906464112097905,
          -1.6806691418203483,
          -1.8948092283240545,
          -0.6629022114356363,
          0.9426831793196937,
          -1.4706433299052497,
          0.2518879476780384,
          0.6810720111295613,
          -0.3085172000806598,
          -0.3562421460405253,
          -0.1788220608402094,
          -0.24784954720292518,
          -0.45771365011507403,
          0.4390362854482815,
          0.5519476605767072,
          -0.5619402481726922,
          0.4765415270800268,
          0.3257837037562128,
          1.0891133173061598,
          1.0151231960198204,
          1.496922220628036,
          0.029736162430201996,
          -0.05075711300655761,
          -0.04374070749850323,
          0.37085693695561656,
          -0.6986961267676697,
          0.1029627481826911,
          2.2509080213863237,
          0.6369457544095045,
          -1.3716612492088494,
          -0.8382421811043741,
          -1.9679203658427102,
          -1.770936742565373,
          1.4968628602769374,
          0.562371984147253,
          0.526158469064765,
          -1.7776305682924445
         ]
        },
        {
         "hovertemplate": "tag=Mage<br>PC1=%{x}<br>PC2=%{y}<br>PC3=%{z}<extra></extra>",
         "legendgroup": "Mage",
         "marker": {
          "color": "#EF553B",
          "symbol": "circle"
         },
         "mode": "markers",
         "name": "Mage",
         "scene": "scene",
         "showlegend": true,
         "type": "scatter3d",
         "x": [
          0.046963553154184545,
          -2.1155930127798412,
          0.07789578997497738,
          -0.726428844389188,
          1.0888261461866664,
          -0.10577708472754666,
          -0.4353414251758923,
          0.7954171340383727,
          -1.530971709337703,
          -0.9635010202898243,
          -1.7795232909452365,
          -1.5323995249206195,
          1.4206922794816588,
          -1.7107657317293934,
          -2.746443966086087,
          -1.366016843234321,
          2.283112086476595,
          0.5950881433739692
         ],
         "y": [
          -1.519741428909629,
          -0.10605285667019215,
          -1.9203250820258915,
          -1.038420325171764,
          -0.26761281066547327,
          -1.033237844286635,
          0.7171646434120554,
          0.37305170376213054,
          0.7860189783326232,
          -1.1827429362630282,
          0.5499811991688364,
          0.008037986065414532,
          1.025393792816738,
          0.781751517443096,
          -1.0531825141946967,
          0.11939430043205587,
          -1.3007603059266102,
          0.16811840090302738
         ],
         "z": [
          0.16884496729004908,
          -0.44130856691981046,
          0.9495786513139697,
          0.0630866475795197,
          -0.7122314250977733,
          -0.034022429072180616,
          0.7672390176930036,
          -0.7728411850389216,
          -1.2019678776570761,
          0.04909468101010542,
          0.5889982957087828,
          -0.7981401627280147,
          -1.0147235335843436,
          -1.4031684181611304,
          0.46195149634287896,
          0.7627648802544655,
          -0.4087217261182869,
          1.2741550574158163
         ]
        },
        {
         "hovertemplate": "tag=Support<br>PC1=%{x}<br>PC2=%{y}<br>PC3=%{z}<extra></extra>",
         "legendgroup": "Support",
         "marker": {
          "color": "#00cc96",
          "symbol": "circle"
         },
         "mode": "markers",
         "name": "Support",
         "scene": "scene",
         "showlegend": true,
         "type": "scatter3d",
         "x": [
          1.4743488703252219,
          1.366650716090756,
          -0.32318752079144064,
          -0.4283797614228336,
          -0.5010608889243597,
          -1.5114960812122566,
          0.9292462321605536,
          0.5693197553612719,
          -0.052062395214949375,
          -1.4219713062411496
         ],
         "y": [
          -0.8660719615454506,
          2.497303355901239,
          -1.2733501119458046,
          0.6999947589877125,
          3.1636373938390165,
          -0.13792601263409301,
          -1.803603474798844,
          0.7234504771553207,
          -2.0166759037958584,
          -1.0184597595468197
         ],
         "z": [
          -0.034323738500680545,
          2.4113705461720785,
          0.4250129364070292,
          -0.36892434200174884,
          1.3606806731369614,
          -0.7033152971212824,
          0.37654356573603937,
          1.8551559591247868,
          1.0809684374285229,
          0.08632729470227729
         ]
        },
        {
         "hovertemplate": "tag=Assassin<br>PC1=%{x}<br>PC2=%{y}<br>PC3=%{z}<extra></extra>",
         "legendgroup": "Assassin",
         "marker": {
          "color": "#ab63fa",
          "symbol": "circle"
         },
         "mode": "markers",
         "name": "Assassin",
         "scene": "scene",
         "showlegend": true,
         "type": "scatter3d",
         "x": [
          0.9606700668214309,
          1.4006617091999303,
          3.322070611062204,
          0.4375483124375205,
          0.5247301656316345,
          -2.468542911327934,
          0.664793833616796,
          -0.8476939563046753
         ],
         "y": [
          -1.3260236116085442,
          0.062100444432657484,
          -1.026315350632891,
          3.075727289842007,
          -0.04634464923789562,
          -0.8048205073404358,
          -1.635328591882827,
          1.0579807073091683
         ],
         "z": [
          -0.741238401947872,
          -0.8828226528777339,
          -0.8057306928455115,
          1.16099019318637,
          -0.8233685806499967,
          0.21816118565564813,
          1.2118002000046129,
          0.7454981336574467
         ]
        },
        {
         "hovertemplate": "tag=Marksman<br>PC1=%{x}<br>PC2=%{y}<br>PC3=%{z}<extra></extra>",
         "legendgroup": "Marksman",
         "marker": {
          "color": "#FFA15A",
          "symbol": "circle"
         },
         "mode": "markers",
         "name": "Marksman",
         "scene": "scene",
         "showlegend": true,
         "type": "scatter3d",
         "x": [
          -1.3482937397424242,
          1.321785790668386,
          -0.1306213295728953,
          -1.4966448393823764,
          -1.1154803632463421,
          0.3664033336357197,
          -0.007712992417546194,
          0.8785082469279013,
          -0.6094837707512848,
          1.6481305247024238,
          -0.43870977893306184,
          -1.349174229945043,
          0.8548897684983824,
          -0.024334358277848633,
          1.2579578973612877,
          -1.2505815408384242,
          -0.003975163169880225,
          2.4562943903505765,
          0.8984231374995088,
          -0.21912994242052627,
          -1.685054914145819,
          -2.0501054891377875,
          -2.304448509532377,
          -2.6806259033789743,
          -0.9577532841095827,
          -1.5095143793165944,
          3.04830031213269,
          -0.17157578936639206,
          -1.943068962549974,
          -1.4387465150167746,
          -1.503029831971499,
          -2.848438870224923
         ],
         "y": [
          -0.4751140039630668,
          3.1581648009821177,
          1.0274759001053826,
          -1.4474946220156517,
          1.3505787724621443,
          -0.4952762319192307,
          1.5143267965124498,
          0.2973763512812724,
          0.43092659119381305,
          2.0748816775747927,
          0.7423875526688934,
          -0.5083371713545469,
          -0.25650089631140116,
          2.508586525247651,
          -1.8223631753297411,
          0.45658556764061875,
          -0.5221398491570513,
          -0.1722470448089282,
          -1.3342864212581989,
          0.6212251312048006,
          0.13899263555105723,
          -0.434136881758881,
          -0.6913131091581659,
          -1.1369158720338077,
          0.2250009751419429,
          0.8841911501377652,
          -1.0518352058554012,
          -0.8397313722733428,
          0.46731080542752446,
          0.07768447312128647,
          -0.0578410871790872,
          -1.149781383988778
         ],
         "z": [
          0.5334993139900034,
          1.942022599937352,
          0.07825468605657895,
          0.46317349740252034,
          -1.7480024247525066,
          -0.267871120836232,
          1.9578783820958252,
          -1.6603348144572885,
          -0.9807938185816389,
          1.609099256400366,
          -1.5847524680982312,
          -0.03328182354196602,
          -1.1651740428083786,
          1.1521658207287657,
          -0.5233262414238156,
          -0.9615225155456788,
          1.3335167112188322,
          -1.0125695131012187,
          0.5112053812906404,
          1.3124994941604051,
          -0.6565580316393428,
          -0.2634590029733431,
          0.13747578971353636,
          0.4881913133008831,
          -0.8712984747391643,
          0.7065537061969476,
          -0.09676722255034675,
          -0.3037921124560415,
          0.5926179382262865,
          -0.46003712788355866,
          -0.2937724977002693,
          0.470409914622957
         ]
        },
        {
         "hovertemplate": "tag=Tank<br>PC1=%{x}<br>PC2=%{y}<br>PC3=%{z}<extra></extra>",
         "legendgroup": "Tank",
         "marker": {
          "color": "#19d3f3",
          "symbol": "circle"
         },
         "mode": "markers",
         "name": "Tank",
         "scene": "scene",
         "showlegend": true,
         "type": "scatter3d",
         "x": [
          1.5934277153564367,
          5.527507257646433,
          -1.5292649476391933,
          -1.8955469541086012,
          -0.018732034562099265,
          1.851443211216724,
          0.30390814674815536,
          1.197365973159052,
          -0.7219170295699572,
          -2.282343348038615,
          0.7629529053913442,
          -0.2119170600809186,
          -1.9169195803924204,
          -0.8323401052570618,
          0.7882493439231693
         ],
         "y": [
          -0.8377631149740914,
          -1.199339570180471,
          1.027837083068881,
          -0.557211398765947,
          1.1280616339599174,
          1.5636806148313789,
          0.017943727387935926,
          -1.696380774064513,
          -0.87979621501589,
          -1.1109977803328142,
          1.0370785699449037,
          -0.9501511257143309,
          -0.34688563919751514,
          2.504913138842324,
          0.27058190571671104
         ],
         "z": [
          -0.3950701230017013,
          -0.4254669144829374,
          -1.4174375355382534,
          0.8920668174193123,
          0.607650574566165,
          1.6034597613846655,
          1.6958850906068679,
          0.36234808318451106,
          0.014415843279827863,
          0.29268816713643453,
          -1.808704498747506,
          0.43409337950336346,
          0.04386400954676767,
          0.6563905125826915,
          -1.017804785635393
         ]
        }
       ],
       "layout": {
        "legend": {
         "title": {
          "text": "tag"
         },
         "tracegroupgap": 0
        },
        "margin": {
         "t": 60
        },
        "scene": {
         "domain": {
          "x": [
           0,
           1
          ],
          "y": [
           0,
           1
          ]
         },
         "xaxis": {
          "title": {
           "text": "PC1"
          }
         },
         "yaxis": {
          "title": {
           "text": "PC2"
          }
         },
         "zaxis": {
          "title": {
           "text": "PC3"
          }
         }
        },
        "template": {
         "data": {
          "bar": [
           {
            "error_x": {
             "color": "#2a3f5f"
            },
            "error_y": {
             "color": "#2a3f5f"
            },
            "marker": {
             "line": {
              "color": "#E5ECF6",
              "width": 0.5
             },
             "pattern": {
              "fillmode": "overlay",
              "size": 10,
              "solidity": 0.2
             }
            },
            "type": "bar"
           }
          ],
          "barpolar": [
           {
            "marker": {
             "line": {
              "color": "#E5ECF6",
              "width": 0.5
             },
             "pattern": {
              "fillmode": "overlay",
              "size": 10,
              "solidity": 0.2
             }
            },
            "type": "barpolar"
           }
          ],
          "carpet": [
           {
            "aaxis": {
             "endlinecolor": "#2a3f5f",
             "gridcolor": "white",
             "linecolor": "white",
             "minorgridcolor": "white",
             "startlinecolor": "#2a3f5f"
            },
            "baxis": {
             "endlinecolor": "#2a3f5f",
             "gridcolor": "white",
             "linecolor": "white",
             "minorgridcolor": "white",
             "startlinecolor": "#2a3f5f"
            },
            "type": "carpet"
           }
          ],
          "choropleth": [
           {
            "colorbar": {
             "outlinewidth": 0,
             "ticks": ""
            },
            "type": "choropleth"
           }
          ],
          "contour": [
           {
            "colorbar": {
             "outlinewidth": 0,
             "ticks": ""
            },
            "colorscale": [
             [
              0,
              "#0d0887"
             ],
             [
              0.1111111111111111,
              "#46039f"
             ],
             [
              0.2222222222222222,
              "#7201a8"
             ],
             [
              0.3333333333333333,
              "#9c179e"
             ],
             [
              0.4444444444444444,
              "#bd3786"
             ],
             [
              0.5555555555555556,
              "#d8576b"
             ],
             [
              0.6666666666666666,
              "#ed7953"
             ],
             [
              0.7777777777777778,
              "#fb9f3a"
             ],
             [
              0.8888888888888888,
              "#fdca26"
             ],
             [
              1,
              "#f0f921"
             ]
            ],
            "type": "contour"
           }
          ],
          "contourcarpet": [
           {
            "colorbar": {
             "outlinewidth": 0,
             "ticks": ""
            },
            "type": "contourcarpet"
           }
          ],
          "heatmap": [
           {
            "colorbar": {
             "outlinewidth": 0,
             "ticks": ""
            },
            "colorscale": [
             [
              0,
              "#0d0887"
             ],
             [
              0.1111111111111111,
              "#46039f"
             ],
             [
              0.2222222222222222,
              "#7201a8"
             ],
             [
              0.3333333333333333,
              "#9c179e"
             ],
             [
              0.4444444444444444,
              "#bd3786"
             ],
             [
              0.5555555555555556,
              "#d8576b"
             ],
             [
              0.6666666666666666,
              "#ed7953"
             ],
             [
              0.7777777777777778,
              "#fb9f3a"
             ],
             [
              0.8888888888888888,
              "#fdca26"
             ],
             [
              1,
              "#f0f921"
             ]
            ],
            "type": "heatmap"
           }
          ],
          "heatmapgl": [
           {
            "colorbar": {
             "outlinewidth": 0,
             "ticks": ""
            },
            "colorscale": [
             [
              0,
              "#0d0887"
             ],
             [
              0.1111111111111111,
              "#46039f"
             ],
             [
              0.2222222222222222,
              "#7201a8"
             ],
             [
              0.3333333333333333,
              "#9c179e"
             ],
             [
              0.4444444444444444,
              "#bd3786"
             ],
             [
              0.5555555555555556,
              "#d8576b"
             ],
             [
              0.6666666666666666,
              "#ed7953"
             ],
             [
              0.7777777777777778,
              "#fb9f3a"
             ],
             [
              0.8888888888888888,
              "#fdca26"
             ],
             [
              1,
              "#f0f921"
             ]
            ],
            "type": "heatmapgl"
           }
          ],
          "histogram": [
           {
            "marker": {
             "pattern": {
              "fillmode": "overlay",
              "size": 10,
              "solidity": 0.2
             }
            },
            "type": "histogram"
           }
          ],
          "histogram2d": [
           {
            "colorbar": {
             "outlinewidth": 0,
             "ticks": ""
            },
            "colorscale": [
             [
              0,
              "#0d0887"
             ],
             [
              0.1111111111111111,
              "#46039f"
             ],
             [
              0.2222222222222222,
              "#7201a8"
             ],
             [
              0.3333333333333333,
              "#9c179e"
             ],
             [
              0.4444444444444444,
              "#bd3786"
             ],
             [
              0.5555555555555556,
              "#d8576b"
             ],
             [
              0.6666666666666666,
              "#ed7953"
             ],
             [
              0.7777777777777778,
              "#fb9f3a"
             ],
             [
              0.8888888888888888,
              "#fdca26"
             ],
             [
              1,
              "#f0f921"
             ]
            ],
            "type": "histogram2d"
           }
          ],
          "histogram2dcontour": [
           {
            "colorbar": {
             "outlinewidth": 0,
             "ticks": ""
            },
            "colorscale": [
             [
              0,
              "#0d0887"
             ],
             [
              0.1111111111111111,
              "#46039f"
             ],
             [
              0.2222222222222222,
              "#7201a8"
             ],
             [
              0.3333333333333333,
              "#9c179e"
             ],
             [
              0.4444444444444444,
              "#bd3786"
             ],
             [
              0.5555555555555556,
              "#d8576b"
             ],
             [
              0.6666666666666666,
              "#ed7953"
             ],
             [
              0.7777777777777778,
              "#fb9f3a"
             ],
             [
              0.8888888888888888,
              "#fdca26"
             ],
             [
              1,
              "#f0f921"
             ]
            ],
            "type": "histogram2dcontour"
           }
          ],
          "mesh3d": [
           {
            "colorbar": {
             "outlinewidth": 0,
             "ticks": ""
            },
            "type": "mesh3d"
           }
          ],
          "parcoords": [
           {
            "line": {
             "colorbar": {
              "outlinewidth": 0,
              "ticks": ""
             }
            },
            "type": "parcoords"
           }
          ],
          "pie": [
           {
            "automargin": true,
            "type": "pie"
           }
          ],
          "scatter": [
           {
            "fillpattern": {
             "fillmode": "overlay",
             "size": 10,
             "solidity": 0.2
            },
            "type": "scatter"
           }
          ],
          "scatter3d": [
           {
            "line": {
             "colorbar": {
              "outlinewidth": 0,
              "ticks": ""
             }
            },
            "marker": {
             "colorbar": {
              "outlinewidth": 0,
              "ticks": ""
             }
            },
            "type": "scatter3d"
           }
          ],
          "scattercarpet": [
           {
            "marker": {
             "colorbar": {
              "outlinewidth": 0,
              "ticks": ""
             }
            },
            "type": "scattercarpet"
           }
          ],
          "scattergeo": [
           {
            "marker": {
             "colorbar": {
              "outlinewidth": 0,
              "ticks": ""
             }
            },
            "type": "scattergeo"
           }
          ],
          "scattergl": [
           {
            "marker": {
             "colorbar": {
              "outlinewidth": 0,
              "ticks": ""
             }
            },
            "type": "scattergl"
           }
          ],
          "scattermapbox": [
           {
            "marker": {
             "colorbar": {
              "outlinewidth": 0,
              "ticks": ""
             }
            },
            "type": "scattermapbox"
           }
          ],
          "scatterpolar": [
           {
            "marker": {
             "colorbar": {
              "outlinewidth": 0,
              "ticks": ""
             }
            },
            "type": "scatterpolar"
           }
          ],
          "scatterpolargl": [
           {
            "marker": {
             "colorbar": {
              "outlinewidth": 0,
              "ticks": ""
             }
            },
            "type": "scatterpolargl"
           }
          ],
          "scatterternary": [
           {
            "marker": {
             "colorbar": {
              "outlinewidth": 0,
              "ticks": ""
             }
            },
            "type": "scatterternary"
           }
          ],
          "surface": [
           {
            "colorbar": {
             "outlinewidth": 0,
             "ticks": ""
            },
            "colorscale": [
             [
              0,
              "#0d0887"
             ],
             [
              0.1111111111111111,
              "#46039f"
             ],
             [
              0.2222222222222222,
              "#7201a8"
             ],
             [
              0.3333333333333333,
              "#9c179e"
             ],
             [
              0.4444444444444444,
              "#bd3786"
             ],
             [
              0.5555555555555556,
              "#d8576b"
             ],
             [
              0.6666666666666666,
              "#ed7953"
             ],
             [
              0.7777777777777778,
              "#fb9f3a"
             ],
             [
              0.8888888888888888,
              "#fdca26"
             ],
             [
              1,
              "#f0f921"
             ]
            ],
            "type": "surface"
           }
          ],
          "table": [
           {
            "cells": {
             "fill": {
              "color": "#EBF0F8"
             },
             "line": {
              "color": "white"
             }
            },
            "header": {
             "fill": {
              "color": "#C8D4E3"
             },
             "line": {
              "color": "white"
             }
            },
            "type": "table"
           }
          ]
         },
         "layout": {
          "annotationdefaults": {
           "arrowcolor": "#2a3f5f",
           "arrowhead": 0,
           "arrowwidth": 1
          },
          "autotypenumbers": "strict",
          "coloraxis": {
           "colorbar": {
            "outlinewidth": 0,
            "ticks": ""
           }
          },
          "colorscale": {
           "diverging": [
            [
             0,
             "#8e0152"
            ],
            [
             0.1,
             "#c51b7d"
            ],
            [
             0.2,
             "#de77ae"
            ],
            [
             0.3,
             "#f1b6da"
            ],
            [
             0.4,
             "#fde0ef"
            ],
            [
             0.5,
             "#f7f7f7"
            ],
            [
             0.6,
             "#e6f5d0"
            ],
            [
             0.7,
             "#b8e186"
            ],
            [
             0.8,
             "#7fbc41"
            ],
            [
             0.9,
             "#4d9221"
            ],
            [
             1,
             "#276419"
            ]
           ],
           "sequential": [
            [
             0,
             "#0d0887"
            ],
            [
             0.1111111111111111,
             "#46039f"
            ],
            [
             0.2222222222222222,
             "#7201a8"
            ],
            [
             0.3333333333333333,
             "#9c179e"
            ],
            [
             0.4444444444444444,
             "#bd3786"
            ],
            [
             0.5555555555555556,
             "#d8576b"
            ],
            [
             0.6666666666666666,
             "#ed7953"
            ],
            [
             0.7777777777777778,
             "#fb9f3a"
            ],
            [
             0.8888888888888888,
             "#fdca26"
            ],
            [
             1,
             "#f0f921"
            ]
           ],
           "sequentialminus": [
            [
             0,
             "#0d0887"
            ],
            [
             0.1111111111111111,
             "#46039f"
            ],
            [
             0.2222222222222222,
             "#7201a8"
            ],
            [
             0.3333333333333333,
             "#9c179e"
            ],
            [
             0.4444444444444444,
             "#bd3786"
            ],
            [
             0.5555555555555556,
             "#d8576b"
            ],
            [
             0.6666666666666666,
             "#ed7953"
            ],
            [
             0.7777777777777778,
             "#fb9f3a"
            ],
            [
             0.8888888888888888,
             "#fdca26"
            ],
            [
             1,
             "#f0f921"
            ]
           ]
          },
          "colorway": [
           "#636efa",
           "#EF553B",
           "#00cc96",
           "#ab63fa",
           "#FFA15A",
           "#19d3f3",
           "#FF6692",
           "#B6E880",
           "#FF97FF",
           "#FECB52"
          ],
          "font": {
           "color": "#2a3f5f"
          },
          "geo": {
           "bgcolor": "white",
           "lakecolor": "white",
           "landcolor": "#E5ECF6",
           "showlakes": true,
           "showland": true,
           "subunitcolor": "white"
          },
          "hoverlabel": {
           "align": "left"
          },
          "hovermode": "closest",
          "mapbox": {
           "style": "light"
          },
          "paper_bgcolor": "white",
          "plot_bgcolor": "#E5ECF6",
          "polar": {
           "angularaxis": {
            "gridcolor": "white",
            "linecolor": "white",
            "ticks": ""
           },
           "bgcolor": "#E5ECF6",
           "radialaxis": {
            "gridcolor": "white",
            "linecolor": "white",
            "ticks": ""
           }
          },
          "scene": {
           "xaxis": {
            "backgroundcolor": "#E5ECF6",
            "gridcolor": "white",
            "gridwidth": 2,
            "linecolor": "white",
            "showbackground": true,
            "ticks": "",
            "zerolinecolor": "white"
           },
           "yaxis": {
            "backgroundcolor": "#E5ECF6",
            "gridcolor": "white",
            "gridwidth": 2,
            "linecolor": "white",
            "showbackground": true,
            "ticks": "",
            "zerolinecolor": "white"
           },
           "zaxis": {
            "backgroundcolor": "#E5ECF6",
            "gridcolor": "white",
            "gridwidth": 2,
            "linecolor": "white",
            "showbackground": true,
            "ticks": "",
            "zerolinecolor": "white"
           }
          },
          "shapedefaults": {
           "line": {
            "color": "#2a3f5f"
           }
          },
          "ternary": {
           "aaxis": {
            "gridcolor": "white",
            "linecolor": "white",
            "ticks": ""
           },
           "baxis": {
            "gridcolor": "white",
            "linecolor": "white",
            "ticks": ""
           },
           "bgcolor": "#E5ECF6",
           "caxis": {
            "gridcolor": "white",
            "linecolor": "white",
            "ticks": ""
           }
          },
          "title": {
           "x": 0.05
          },
          "xaxis": {
           "automargin": true,
           "gridcolor": "white",
           "linecolor": "white",
           "ticks": "",
           "title": {
            "standoff": 15
           },
           "zerolinecolor": "white",
           "zerolinewidth": 2
          },
          "yaxis": {
           "automargin": true,
           "gridcolor": "white",
           "linecolor": "white",
           "ticks": "",
           "title": {
            "standoff": 15
           },
           "zerolinecolor": "white",
           "zerolinewidth": 2
          }
         }
        }
       }
      }
     },
     "metadata": {},
     "output_type": "display_data"
    }
   ],
   "source": [
    "import plotly.express as px\n",
    "fig = px.scatter_3d(reduced_df[::10000], x='PC1', y='PC2', z='PC3',\n",
    "                    color='tag')\n",
    "fig.show()"
   ]
  },
  {
   "cell_type": "code",
   "execution_count": 15,
   "metadata": {},
   "outputs": [],
   "source": [
    "#import necessary libraries\n",
    "from sklearn.preprocessing import StandardScaler\n",
    "from sklearn.decomposition import PCA\n",
    "import plotly.express as px\n",
    "class pca_and_kmeans():\n",
    "    def __init__(self,n_components,x,y):\n",
    "        #first we standarize all our data to prepare it for PCA\n",
    "        self.scaler = StandardScaler()\n",
    "        self.n_components = n_components\n",
    "        self.Xcentred = self.scaler.fit_transform(x)\n",
    "\n",
    "        #we want to transform our data into three dimensions\n",
    "        self.pca = PCA(self.n_components)\n",
    "\n",
    "        #calculate\n",
    "        self.pca.fit(self.Xcentred)\n",
    "\n",
    "        #new dataset \n",
    "        self.Xnew = self.pca.transform(self.Xcentred) #here it is a np array we want a pd dataframe\n",
    "        self.Xnew = pd.DataFrame(self.Xnew)\n",
    "        self.reduced = pd.merge(self.Xnew, y, left_index=True, right_index=True)\n",
    "\n",
    "    def variance_explained(self):\n",
    "        print(\"\\nThe components we have found, explain the following percentage of variance: \\n\", self.pca.explained_variance_ratio_) # explained_variance_ratio_ stores the percentage of variance each of our components explains\n"
   ]
  },
  {
   "cell_type": "code",
   "execution_count": 12,
   "metadata": {},
   "outputs": [],
   "source": [
    "model = pca_and_kmeans(3,x,y)"
   ]
  },
  {
   "cell_type": "code",
   "execution_count": 13,
   "metadata": {},
   "outputs": [
    {
     "name": "stdout",
     "output_type": "stream",
     "text": [
      "\n",
      "The components we have found, explain the following percentage of variance: \n",
      " [0.38904589 0.19369926 0.12383113]\n"
     ]
    }
   ],
   "source": [
    "model.variance_explained() #we see that 3 aren't enough"
   ]
  },
  {
   "cell_type": "code",
   "execution_count": 16,
   "metadata": {},
   "outputs": [],
   "source": [
    "#lets try with more components\n",
    "model = pca_and_kmeans(5,x,y)"
   ]
  },
  {
   "cell_type": "code",
   "execution_count": 18,
   "metadata": {},
   "outputs": [
    {
     "name": "stdout",
     "output_type": "stream",
     "text": [
      "\n",
      "The components we have found, explain the following percentage of variance: \n",
      " [0.38904589 0.19369926 0.12383113 0.12125524 0.0740552 ]\n"
     ]
    }
   ],
   "source": [
    "model.variance_explained() #not enough"
   ]
  },
  {
   "cell_type": "code",
   "execution_count": null,
   "metadata": {},
   "outputs": [],
   "source": [
    "#even more\n",
    "model = pca_and_kmeans(8,x,y)"
   ]
  }
 ],
 "metadata": {
  "interpreter": {
   "hash": "56f4995ff0f07fb23043dc681848bb9f3b1df43f8f1441a8a42cc2a23d5a426a"
  },
  "kernelspec": {
   "display_name": "Python 3.9.7 ('projecte_dades_env': venv)",
   "language": "python",
   "name": "python3"
  },
  "language_info": {
   "codemirror_mode": {
    "name": "ipython",
    "version": 3
   },
   "file_extension": ".py",
   "mimetype": "text/x-python",
   "name": "python",
   "nbconvert_exporter": "python",
   "pygments_lexer": "ipython3",
   "version": "3.9.7"
  },
  "orig_nbformat": 4
 },
 "nbformat": 4,
 "nbformat_minor": 2
}
