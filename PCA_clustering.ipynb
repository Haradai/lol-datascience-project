{
 "cells": [
  {
   "cell_type": "code",
   "execution_count": null,
   "metadata": {},
   "outputs": [
    {
     "ename": "",
     "evalue": "",
     "output_type": "error",
     "traceback": [
      "\u001b[1;31mFailed to start the Kernel. \n",
      "The 'python397jvsc74a57bd056f4995ff0f07fb23043dc681848bb9f3b1df43f8f1441a8a42cc2a23d5a426a' kernel is not available. Please pick another suitable kernel instead, or install that kernel. \n",
      "View Jupyter <a href='command:jupyter.viewOutput'>log</a> for further details."
     ]
    }
   ],
   "source": [
    "#import dataset and reset index\n",
    "import pandas as pd\n",
    "players_df = pd.read_pickle(\"players_df.pkl\")\n",
    "players_df = players_df.reset_index()"
   ]
  },
  {
   "cell_type": "code",
   "execution_count": null,
   "metadata": {},
   "outputs": [
    {
     "ename": "",
     "evalue": "",
     "output_type": "error",
     "traceback": [
      "\u001b[1;31mFailed to start the Kernel. \n",
      "The 'python397jvsc74a57bd056f4995ff0f07fb23043dc681848bb9f3b1df43f8f1441a8a42cc2a23d5a426a' kernel is not available. Please pick another suitable kernel instead, or install that kernel. \n",
      "View Jupyter <a href='command:jupyter.viewOutput'>log</a> for further details."
     ]
    }
   ],
   "source": [
    "#we remove rows based on Nas on these specific columns\n",
    "players_df = players_df.dropna(subset=[\"stats.wardsPlaced\",\"stats.wardsKilled\"])"
   ]
  },
  {
   "cell_type": "code",
   "execution_count": null,
   "metadata": {},
   "outputs": [
    {
     "ename": "",
     "evalue": "",
     "output_type": "error",
     "traceback": [
      "\u001b[1;31mFailed to start the Kernel. \n",
      "The 'python397jvsc74a57bd056f4995ff0f07fb23043dc681848bb9f3b1df43f8f1441a8a42cc2a23d5a426a' kernel is not available. Please pick another suitable kernel instead, or install that kernel. \n",
      "View Jupyter <a href='command:jupyter.viewOutput'>log</a> for further details."
     ]
    }
   ],
   "source": [
    "#create subsets to work with, select columns we want\n",
    "x = players_df[[\"stats.kills\",\"stats.assists\",\"stats.magicDamageDealt\",\"stats.physicalDamageDealt\",\"stats.damageDealtToTurrets\",\"stats.totalDamageTaken\",\"stats.turretKills\",\"stats.totalMinionsKilled\"]]\n",
    "y = players_df[[\"championId\",\"spell1Id\",\"spell2Id\",\"timeline.role\",\"timeline.lane\"]]"
   ]
  },
  {
   "cell_type": "code",
   "execution_count": null,
   "metadata": {},
   "outputs": [
    {
     "ename": "",
     "evalue": "",
     "output_type": "error",
     "traceback": [
      "\u001b[1;31mFailed to start the Kernel. \n",
      "The 'python397jvsc74a57bd056f4995ff0f07fb23043dc681848bb9f3b1df43f8f1441a8a42cc2a23d5a426a' kernel is not available. Please pick another suitable kernel instead, or install that kernel. \n",
      "View Jupyter <a href='command:jupyter.viewOutput'>log</a> for further details."
     ]
    }
   ],
   "source": [
    "#import necessary libraries\n",
    "from sklearn.preprocessing import StandardScaler\n",
    "from sklearn.decomposition import PCA"
   ]
  },
  {
   "cell_type": "code",
   "execution_count": null,
   "metadata": {},
   "outputs": [
    {
     "data": {
      "text/html": [
       "<div>\n",
       "<style scoped>\n",
       "    .dataframe tbody tr th:only-of-type {\n",
       "        vertical-align: middle;\n",
       "    }\n",
       "\n",
       "    .dataframe tbody tr th {\n",
       "        vertical-align: top;\n",
       "    }\n",
       "\n",
       "    .dataframe thead th {\n",
       "        text-align: right;\n",
       "    }\n",
       "</style>\n",
       "<table border=\"1\" class=\"dataframe\">\n",
       "  <thead>\n",
       "    <tr style=\"text-align: right;\">\n",
       "      <th></th>\n",
       "      <th>PC1</th>\n",
       "      <th>PC2</th>\n",
       "      <th>PC3</th>\n",
       "      <th>championId</th>\n",
       "      <th>spell1Id</th>\n",
       "      <th>spell2Id</th>\n",
       "      <th>timeline.role</th>\n",
       "      <th>timeline.lane</th>\n",
       "    </tr>\n",
       "  </thead>\n",
       "  <tbody>\n",
       "    <tr>\n",
       "      <th>0</th>\n",
       "      <td>2.019674</td>\n",
       "      <td>-0.340996</td>\n",
       "      <td>-0.211835</td>\n",
       "      <td>39</td>\n",
       "      <td>12</td>\n",
       "      <td>4</td>\n",
       "      <td>SOLO</td>\n",
       "      <td>TOP</td>\n",
       "    </tr>\n",
       "    <tr>\n",
       "      <th>1</th>\n",
       "      <td>0.099603</td>\n",
       "      <td>1.433239</td>\n",
       "      <td>1.600229</td>\n",
       "      <td>68</td>\n",
       "      <td>12</td>\n",
       "      <td>4</td>\n",
       "      <td>SOLO</td>\n",
       "      <td>MIDDLE</td>\n",
       "    </tr>\n",
       "    <tr>\n",
       "      <th>2</th>\n",
       "      <td>-1.954180</td>\n",
       "      <td>0.313756</td>\n",
       "      <td>-0.489411</td>\n",
       "      <td>350</td>\n",
       "      <td>7</td>\n",
       "      <td>14</td>\n",
       "      <td>DUO_SUPPORT</td>\n",
       "      <td>BOTTOM</td>\n",
       "    </tr>\n",
       "    <tr>\n",
       "      <th>3</th>\n",
       "      <td>-0.143213</td>\n",
       "      <td>-0.317958</td>\n",
       "      <td>-0.584041</td>\n",
       "      <td>81</td>\n",
       "      <td>12</td>\n",
       "      <td>4</td>\n",
       "      <td>DUO_CARRY</td>\n",
       "      <td>BOTTOM</td>\n",
       "    </tr>\n",
       "    <tr>\n",
       "      <th>4</th>\n",
       "      <td>-1.313363</td>\n",
       "      <td>0.686301</td>\n",
       "      <td>-0.796011</td>\n",
       "      <td>113</td>\n",
       "      <td>4</td>\n",
       "      <td>11</td>\n",
       "      <td>NONE</td>\n",
       "      <td>JUNGLE</td>\n",
       "    </tr>\n",
       "    <tr>\n",
       "      <th>...</th>\n",
       "      <td>...</td>\n",
       "      <td>...</td>\n",
       "      <td>...</td>\n",
       "      <td>...</td>\n",
       "      <td>...</td>\n",
       "      <td>...</td>\n",
       "      <td>...</td>\n",
       "      <td>...</td>\n",
       "    </tr>\n",
       "    <tr>\n",
       "      <th>1409761</th>\n",
       "      <td>1.861460</td>\n",
       "      <td>4.520775</td>\n",
       "      <td>-1.358939</td>\n",
       "      <td>133</td>\n",
       "      <td>4</td>\n",
       "      <td>14</td>\n",
       "      <td>DUO_SUPPORT</td>\n",
       "      <td>NONE</td>\n",
       "    </tr>\n",
       "    <tr>\n",
       "      <th>1409762</th>\n",
       "      <td>3.516434</td>\n",
       "      <td>0.824213</td>\n",
       "      <td>-2.326434</td>\n",
       "      <td>412</td>\n",
       "      <td>14</td>\n",
       "      <td>4</td>\n",
       "      <td>DUO_SUPPORT</td>\n",
       "      <td>NONE</td>\n",
       "    </tr>\n",
       "    <tr>\n",
       "      <th>1409763</th>\n",
       "      <td>2.854567</td>\n",
       "      <td>3.003605</td>\n",
       "      <td>-3.353208</td>\n",
       "      <td>119</td>\n",
       "      <td>7</td>\n",
       "      <td>4</td>\n",
       "      <td>DUO_SUPPORT</td>\n",
       "      <td>NONE</td>\n",
       "    </tr>\n",
       "    <tr>\n",
       "      <th>1409764</th>\n",
       "      <td>2.270704</td>\n",
       "      <td>0.273648</td>\n",
       "      <td>-1.922549</td>\n",
       "      <td>106</td>\n",
       "      <td>14</td>\n",
       "      <td>4</td>\n",
       "      <td>DUO_SUPPORT</td>\n",
       "      <td>BOTTOM</td>\n",
       "    </tr>\n",
       "    <tr>\n",
       "      <th>1409765</th>\n",
       "      <td>1.880333</td>\n",
       "      <td>1.696090</td>\n",
       "      <td>-1.167049</td>\n",
       "      <td>24</td>\n",
       "      <td>12</td>\n",
       "      <td>4</td>\n",
       "      <td>NONE</td>\n",
       "      <td>JUNGLE</td>\n",
       "    </tr>\n",
       "  </tbody>\n",
       "</table>\n",
       "<p>1245078 rows × 8 columns</p>\n",
       "</div>"
      ],
      "text/plain": [
       "              PC1       PC2       PC3  championId  spell1Id  spell2Id  \\\n",
       "0        2.019674 -0.340996 -0.211835          39        12         4   \n",
       "1        0.099603  1.433239  1.600229          68        12         4   \n",
       "2       -1.954180  0.313756 -0.489411         350         7        14   \n",
       "3       -0.143213 -0.317958 -0.584041          81        12         4   \n",
       "4       -1.313363  0.686301 -0.796011         113         4        11   \n",
       "...           ...       ...       ...         ...       ...       ...   \n",
       "1409761  1.861460  4.520775 -1.358939         133         4        14   \n",
       "1409762  3.516434  0.824213 -2.326434         412        14         4   \n",
       "1409763  2.854567  3.003605 -3.353208         119         7         4   \n",
       "1409764  2.270704  0.273648 -1.922549         106        14         4   \n",
       "1409765  1.880333  1.696090 -1.167049          24        12         4   \n",
       "\n",
       "        timeline.role timeline.lane  \n",
       "0                SOLO           TOP  \n",
       "1                SOLO        MIDDLE  \n",
       "2         DUO_SUPPORT        BOTTOM  \n",
       "3           DUO_CARRY        BOTTOM  \n",
       "4                NONE        JUNGLE  \n",
       "...               ...           ...  \n",
       "1409761   DUO_SUPPORT          NONE  \n",
       "1409762   DUO_SUPPORT          NONE  \n",
       "1409763   DUO_SUPPORT          NONE  \n",
       "1409764   DUO_SUPPORT        BOTTOM  \n",
       "1409765          NONE        JUNGLE  \n",
       "\n",
       "[1245078 rows x 8 columns]"
      ]
     },
     "execution_count": 68,
     "metadata": {},
     "output_type": "execute_result"
    },
    {
     "ename": "",
     "evalue": "",
     "output_type": "error",
     "traceback": [
      "\u001b[1;31mFailed to start the Kernel. \n",
      "The 'python397jvsc74a57bd056f4995ff0f07fb23043dc681848bb9f3b1df43f8f1441a8a42cc2a23d5a426a' kernel is not available. Please pick another suitable kernel instead, or install that kernel. \n",
      "View Jupyter <a href='command:jupyter.viewOutput'>log</a> for further details."
     ]
    }
   ],
   "source": [
    "#first we standarize all our data to prepare it for PCA\n",
    "scaler = StandardScaler()\n",
    "Xcentred = scaler.fit_transform(x)\n",
    "\n",
    "#we want to transform our data into three dimensions\n",
    "pca = PCA(n_components=3)\n",
    "\n",
    "#calculate\n",
    "pca.fit(Xcentred)\n",
    "\n",
    "#new dataset \n",
    "Xnew = pca.transform(Xcentred) #here it is a np array we want a pd dataframe\n",
    "Xnew = pd.DataFrame(Xnew,columns = [\"PC1\",\"PC2\",\"PC3\"])\n",
    "reduced_df =  pd.merge(Xnew, y, left_index=True, right_index=True)\n",
    "reduced_df"
   ]
  },
  {
   "cell_type": "code",
   "execution_count": null,
   "metadata": {},
   "outputs": [
    {
     "data": {
      "application/vnd.plotly.v1+json": {
       "config": {
        "plotlyServerURL": "https://plot.ly"
       },
       "data": [
        {
         "hovertemplate": "timeline.role=SOLO<br>PC1=%{x}<br>PC2=%{y}<br>PC3=%{z}<extra></extra>",
         "legendgroup": "SOLO",
         "marker": {
          "color": "#636efa",
          "symbol": "circle"
         },
         "mode": "markers",
         "name": "SOLO",
         "scene": "scene",
         "showlegend": true,
         "type": "scatter3d",
         "x": [
          2.01967352798983,
          0.046963553154190874,
          0.9606700668214412,
          -1.2785471585429018,
          -1.0226261844403224,
          -0.3881551394705313,
          -0.8951934484427995,
          -1.716277089875665,
          -0.10577708472754385,
          1.7478862399572204,
          -0.007712992417550968,
          -2.3831989609991924,
          -0.4283797614228353,
          -0.01873203456210315,
          0.7954171340383732,
          -0.4387097789330615,
          -0.9635010202898184,
          -1.7795232909452379,
          0.4375483124375104,
          -0.02433435827785646,
          -2.7848841642059066,
          -0.003975163169880724,
          2.46176062297572,
          0.5247301656316364,
          0.30390814674815086,
          -1.85065642822995,
          0.5918980607857166,
          2.2831120864766015,
          -2.468542911327932,
          -2.691853845300495,
          -1.2727890850542203,
          3.4993201622219994,
          -0.8309555683276919,
          -0.8476939563046788,
          -0.8323401052570685,
          -1.2711251368694767,
          1.4249544607587081,
          -0.16491888811185773
         ],
         "y": [
          -0.3409962908277425,
          -1.5197414289096305,
          -1.3260236116085447,
          0.20448023374239496,
          1.0945479256615118,
          0.13660517489020962,
          0.9174887139294511,
          0.27492134102456584,
          -1.0332378442866372,
          -1.9393590821602777,
          1.51432679651245,
          -0.15417516308192963,
          0.6999947589877067,
          1.1280616339599145,
          0.3730517037621348,
          0.7423875526688907,
          -1.1827429362630308,
          0.5499811991688335,
          3.075727289842011,
          2.5085865252476593,
          -1.1173303340376515,
          -0.5221398491570484,
          -1.4785696413337714,
          -0.04634464923789412,
          0.017943727387941207,
          -0.5200671368550287,
          -1.4007754601377493,
          -1.3007603059266,
          -0.8048205073404419,
          -1.0265938886371258,
          -1.070770628367682,
          3.2873043246785723,
          2.746912659461954,
          1.057980707309167,
          2.504913138842321,
          1.5750001357443466,
          2.212939853663785,
          -1.1700200984824725
         ],
         "z": [
          -0.21183467407882522,
          0.16884496729000661,
          -0.7412384019479766,
          -0.44906464112087385,
          -1.6806691418201947,
          0.9426831793196595,
          -1.470643329905143,
          0.25188794767800543,
          -0.03402242907218017,
          0.6810720111296381,
          1.9578783820957606,
          -0.35624214604048055,
          -0.3689243420017418,
          0.6076505745661599,
          -0.7728411850389704,
          -1.5847524680982588,
          0.049094681010033114,
          0.5889982957087665,
          1.1609901931863589,
          1.1521658207286862,
          0.43903628544829404,
          1.3335167112188124,
          0.5519476605767315,
          -0.8233685806500523,
          1.6958850906069143,
          1.0151231960198426,
          0.0297361624301673,
          -0.40872172611836305,
          0.2181611856556589,
          0.3708569369556351,
          0.10296274818269713,
          2.250908021386412,
          0.6369457544094639,
          0.7454981336574411,
          0.6563905125826837,
          -1.7709367425652907,
          1.496862860276943,
          0.5261584690647968
         ]
        },
        {
         "hovertemplate": "timeline.role=DUO_SUPPORT<br>PC1=%{x}<br>PC2=%{y}<br>PC3=%{z}<extra></extra>",
         "legendgroup": "DUO_SUPPORT",
         "marker": {
          "color": "#EF553B",
          "symbol": "circle"
         },
         "mode": "markers",
         "name": "DUO_SUPPORT",
         "scene": "scene",
         "showlegend": true,
         "type": "scatter3d",
         "x": [
          0.2565281869737156,
          1.4743488703252197,
          -2.8551782970853417,
          1.3666507160907466,
          -0.323187520791438,
          0.07789578997497942,
          -0.7264288443891826,
          -1.496644839382371,
          1.088826146186669,
          -0.43534142517589486,
          -1.529264947639195,
          -1.8955469541086005,
          0.878508246927905,
          -0.5010608889243682,
          1.6481305247024147,
          -1.5309717093377042,
          -1.3491742299450413,
          -1.5114960812122553,
          1.5144865778932002,
          1.8514432112167172,
          1.257957897361298,
          2.3710272446452514,
          -2.8316204488490633,
          -1.53239952492062,
          -1.7107657317293943,
          1.1973659731590562,
          -2.7464439660860847,
          -0.7219170295699547,
          0.9292462321605582,
          0.5693197553612671,
          -1.3660168432343212,
          -2.050105489137785,
          -2.6806259033789717,
          -1.9701865373965404,
          -1.5095143793165966,
          0.283759286223278,
          3.0483003121326933,
          -0.17157578936638918,
          -2.282343348038612,
          -0.18450067927552746,
          -1.4219713062411456,
          -0.07398557701439767,
          -1.91691958039242,
          -2.8484388702249204,
          0.7882493439231693
         ],
         "y": [
          1.1676641063772666,
          -0.8660719615454432,
          -1.1856376203304104,
          2.497303355901246,
          -1.2733501119458028,
          -1.9203250820258884,
          -1.0384203251717683,
          -1.4474946220156555,
          -0.26761281066547105,
          0.7171646434120569,
          1.0278370830688697,
          -0.5572113987659503,
          0.29737635128127704,
          3.163637393839016,
          2.0748816775748034,
          0.7860189783326118,
          -0.5083371713545508,
          -0.13792601263409893,
          0.379661385049988,
          1.5636806148313864,
          -1.8223631753297422,
          -0.7690053851256219,
          -1.1579709459385552,
          0.008037986065404595,
          0.7817515174430822,
          -1.696380774064507,
          -1.053182514194702,
          -0.8797962150158922,
          -1.8036034747988385,
          0.7234504771553234,
          0.11939430043205057,
          -0.4341368817588872,
          -1.1369158720338122,
          -0.47856381533645465,
          0.8841911501377638,
          -0.1281737917995378,
          -1.0518352058553875,
          -0.839731372273345,
          -1.1109977803328197,
          0.03958309970646512,
          -1.018459759546823,
          1.1061898429099322,
          -0.34688563919751847,
          -1.1497813839887838,
          0.2705819057167145
         ],
         "z": [
          0.8176070931889841,
          -0.034323738500558365,
          0.47775587425461447,
          2.411370546171998,
          0.42501293640702664,
          0.9495786513140294,
          0.06308664757947519,
          0.46317349740249203,
          -0.7122314250978051,
          0.7672390176929282,
          -1.4174375355382227,
          0.8920668174192795,
          -1.6603348144573784,
          1.360680673136927,
          1.6090992564003683,
          -1.2019678776570162,
          -0.03328182354197331,
          -0.7033152971212753,
          -0.45771365011500076,
          1.60345976138465,
          -0.5233262414238573,
          -0.5619402481725525,
          0.4765415270800423,
          -0.7981401627279252,
          -1.4031684181610553,
          0.36234808318451805,
          0.461951496342889,
          0.014415843279839836,
          0.3765435657360595,
          1.8551559591247977,
          0.7627648802544418,
          -0.26345900297334524,
          0.48819131330089427,
          -0.04374070749851949,
          0.7065537061969072,
          -0.6986961267677297,
          -0.09676722255039927,
          -0.3037921124560413,
          0.2926881671364282,
          -1.37166124920885,
          0.08632729470223939,
          -1.9679203658427176,
          0.04386400954675107,
          0.4704099146229735,
          -1.017804785635363
         ]
        },
        {
         "hovertemplate": "timeline.role=NONE<br>PC1=%{x}<br>PC2=%{y}<br>PC3=%{z}<extra></extra>",
         "legendgroup": "NONE",
         "marker": {
          "color": "#00cc96",
          "symbol": "circle"
         },
         "mode": "markers",
         "name": "NONE",
         "scene": "scene",
         "showlegend": true,
         "type": "scatter3d",
         "x": [
          -1.8234101670369554,
          -0.31533217673234093,
          1.5934277153564422,
          1.6659157041849029,
          5.52750725764643,
          2.208525917037189,
          1.4006617091999316,
          0.8984231374995096,
          -1.8358413746780335,
          0.4206500052741111,
          -0.7879274591189521,
          0.7629529053913463,
          0.6647938336167967,
          -0.3250264133799289,
          -0.21191706008091754,
          0.5950881433739651,
          -2.8126452470793444
         ],
         "y": [
          -0.12466550496596623,
          -0.9361109099608896,
          -0.8377631149740875,
          0.06727321891784765,
          -1.1993395701804543,
          -0.9952595761750221,
          0.06210044443266491,
          -1.334286421258192,
          -0.970822754485233,
          0.9081689340156097,
          2.173158807666951,
          1.037078569944903,
          -1.6353285918828206,
          0.19252322408272615,
          -0.9501511257143295,
          0.1681184009030317,
          -1.1762247795382585
         ],
         "z": [
          -0.1532987126437675,
          0.0432903900017777,
          -0.3950701230017467,
          -1.8948092283241222,
          -0.4254669144827201,
          -0.3085172000806198,
          -0.8828226528777279,
          0.5112053812906917,
          0.3257837037561976,
          1.4969222206280808,
          -0.050757113006542676,
          -1.8087044987475276,
          1.211800200004664,
          -0.8382421811044132,
          0.4340933795033726,
          1.2741550574158453,
          0.5623719841472684
         ]
        },
        {
         "hovertemplate": "timeline.role=DUO_CARRY<br>PC1=%{x}<br>PC2=%{y}<br>PC3=%{z}<extra></extra>",
         "legendgroup": "DUO_CARRY",
         "marker": {
          "color": "#ab63fa",
          "symbol": "circle"
         },
         "mode": "markers",
         "name": "DUO_CARRY",
         "scene": "scene",
         "showlegend": true,
         "type": "scatter3d",
         "x": [
          -1.3482937397424248,
          1.3217857906683734,
          -0.1306213295728985,
          0.366403333635723,
          0.8548897684983853,
          -1.2505815408384255,
          1.4206922794816548,
          -0.21912994242052983,
          -1.6850549141458189,
          -2.304448509532376,
          -0.9577532841095802,
          -1.9430689625499746,
          -1.438746515016776,
          -1.503029831971499
         ],
         "y": [
          -0.47511400396306935,
          3.1581648009821275,
          1.0274759001053804,
          -0.4952762319192292,
          -0.25650089631139705,
          0.456585567640613,
          1.0253937928167445,
          0.621225131204802,
          0.13899263555104846,
          -0.6913131091581717,
          0.22500097514193956,
          0.4673108054275201,
          0.07768447312128003,
          -0.05784108717908981
         ],
         "z": [
          0.5334993139900528,
          1.9420225999373832,
          0.07825468605655668,
          -0.26787112083627507,
          -1.1651740428083996,
          -0.961522515545663,
          -1.014723533584389,
          1.31249949416036,
          -0.6565580316393139,
          0.13747578971357483,
          -0.8712984747392053,
          0.5926179382262728,
          -0.4600371278835229,
          -0.2937724977002889
         ]
        },
        {
         "hovertemplate": "timeline.role=DUO<br>PC1=%{x}<br>PC2=%{y}<br>PC3=%{z}<extra></extra>",
         "legendgroup": "DUO",
         "marker": {
          "color": "#FFA15A",
          "symbol": "circle"
         },
         "mode": "markers",
         "name": "DUO",
         "scene": "scene",
         "showlegend": true,
         "type": "scatter3d",
         "x": [
          -2.1155930127798404,
          -0.17068324533607096,
          -1.1154803632463448,
          -0.6094837707512835,
          3.3220706110622067,
          -0.42851470534992353,
          0.07212902648122249,
          2.4562943903505747,
          -1.2471678164055244,
          -0.05206239521494921,
          0.3621905812364219
         ],
         "y": [
          -0.10605285667020126,
          -0.523889812520372,
          1.3505787724621328,
          0.4309265911938074,
          -1.026315350632885,
          -1.0371485156966422,
          -0.40965901063912247,
          -0.17224704480892716,
          0.0589256965425502,
          -2.016675903795853,
          1.3103372426629465
         ],
         "z": [
          -0.44130856691978115,
          -0.6629022114356575,
          -1.748002424752435,
          -0.9807938185815983,
          -0.8057306928454308,
          -0.17882206084019353,
          -0.24784954720288607,
          -1.012569513101135,
          1.0891133173061145,
          1.08096843742864,
          -1.7776305682925277
         ]
        }
       ],
       "layout": {
        "legend": {
         "title": {
          "text": "timeline.role"
         },
         "tracegroupgap": 0
        },
        "margin": {
         "t": 60
        },
        "scene": {
         "domain": {
          "x": [
           0,
           1
          ],
          "y": [
           0,
           1
          ]
         },
         "xaxis": {
          "title": {
           "text": "PC1"
          }
         },
         "yaxis": {
          "title": {
           "text": "PC2"
          }
         },
         "zaxis": {
          "title": {
           "text": "PC3"
          }
         }
        },
        "template": {
         "data": {
          "bar": [
           {
            "error_x": {
             "color": "#2a3f5f"
            },
            "error_y": {
             "color": "#2a3f5f"
            },
            "marker": {
             "line": {
              "color": "#E5ECF6",
              "width": 0.5
             },
             "pattern": {
              "fillmode": "overlay",
              "size": 10,
              "solidity": 0.2
             }
            },
            "type": "bar"
           }
          ],
          "barpolar": [
           {
            "marker": {
             "line": {
              "color": "#E5ECF6",
              "width": 0.5
             },
             "pattern": {
              "fillmode": "overlay",
              "size": 10,
              "solidity": 0.2
             }
            },
            "type": "barpolar"
           }
          ],
          "carpet": [
           {
            "aaxis": {
             "endlinecolor": "#2a3f5f",
             "gridcolor": "white",
             "linecolor": "white",
             "minorgridcolor": "white",
             "startlinecolor": "#2a3f5f"
            },
            "baxis": {
             "endlinecolor": "#2a3f5f",
             "gridcolor": "white",
             "linecolor": "white",
             "minorgridcolor": "white",
             "startlinecolor": "#2a3f5f"
            },
            "type": "carpet"
           }
          ],
          "choropleth": [
           {
            "colorbar": {
             "outlinewidth": 0,
             "ticks": ""
            },
            "type": "choropleth"
           }
          ],
          "contour": [
           {
            "colorbar": {
             "outlinewidth": 0,
             "ticks": ""
            },
            "colorscale": [
             [
              0,
              "#0d0887"
             ],
             [
              0.1111111111111111,
              "#46039f"
             ],
             [
              0.2222222222222222,
              "#7201a8"
             ],
             [
              0.3333333333333333,
              "#9c179e"
             ],
             [
              0.4444444444444444,
              "#bd3786"
             ],
             [
              0.5555555555555556,
              "#d8576b"
             ],
             [
              0.6666666666666666,
              "#ed7953"
             ],
             [
              0.7777777777777778,
              "#fb9f3a"
             ],
             [
              0.8888888888888888,
              "#fdca26"
             ],
             [
              1,
              "#f0f921"
             ]
            ],
            "type": "contour"
           }
          ],
          "contourcarpet": [
           {
            "colorbar": {
             "outlinewidth": 0,
             "ticks": ""
            },
            "type": "contourcarpet"
           }
          ],
          "heatmap": [
           {
            "colorbar": {
             "outlinewidth": 0,
             "ticks": ""
            },
            "colorscale": [
             [
              0,
              "#0d0887"
             ],
             [
              0.1111111111111111,
              "#46039f"
             ],
             [
              0.2222222222222222,
              "#7201a8"
             ],
             [
              0.3333333333333333,
              "#9c179e"
             ],
             [
              0.4444444444444444,
              "#bd3786"
             ],
             [
              0.5555555555555556,
              "#d8576b"
             ],
             [
              0.6666666666666666,
              "#ed7953"
             ],
             [
              0.7777777777777778,
              "#fb9f3a"
             ],
             [
              0.8888888888888888,
              "#fdca26"
             ],
             [
              1,
              "#f0f921"
             ]
            ],
            "type": "heatmap"
           }
          ],
          "heatmapgl": [
           {
            "colorbar": {
             "outlinewidth": 0,
             "ticks": ""
            },
            "colorscale": [
             [
              0,
              "#0d0887"
             ],
             [
              0.1111111111111111,
              "#46039f"
             ],
             [
              0.2222222222222222,
              "#7201a8"
             ],
             [
              0.3333333333333333,
              "#9c179e"
             ],
             [
              0.4444444444444444,
              "#bd3786"
             ],
             [
              0.5555555555555556,
              "#d8576b"
             ],
             [
              0.6666666666666666,
              "#ed7953"
             ],
             [
              0.7777777777777778,
              "#fb9f3a"
             ],
             [
              0.8888888888888888,
              "#fdca26"
             ],
             [
              1,
              "#f0f921"
             ]
            ],
            "type": "heatmapgl"
           }
          ],
          "histogram": [
           {
            "marker": {
             "pattern": {
              "fillmode": "overlay",
              "size": 10,
              "solidity": 0.2
             }
            },
            "type": "histogram"
           }
          ],
          "histogram2d": [
           {
            "colorbar": {
             "outlinewidth": 0,
             "ticks": ""
            },
            "colorscale": [
             [
              0,
              "#0d0887"
             ],
             [
              0.1111111111111111,
              "#46039f"
             ],
             [
              0.2222222222222222,
              "#7201a8"
             ],
             [
              0.3333333333333333,
              "#9c179e"
             ],
             [
              0.4444444444444444,
              "#bd3786"
             ],
             [
              0.5555555555555556,
              "#d8576b"
             ],
             [
              0.6666666666666666,
              "#ed7953"
             ],
             [
              0.7777777777777778,
              "#fb9f3a"
             ],
             [
              0.8888888888888888,
              "#fdca26"
             ],
             [
              1,
              "#f0f921"
             ]
            ],
            "type": "histogram2d"
           }
          ],
          "histogram2dcontour": [
           {
            "colorbar": {
             "outlinewidth": 0,
             "ticks": ""
            },
            "colorscale": [
             [
              0,
              "#0d0887"
             ],
             [
              0.1111111111111111,
              "#46039f"
             ],
             [
              0.2222222222222222,
              "#7201a8"
             ],
             [
              0.3333333333333333,
              "#9c179e"
             ],
             [
              0.4444444444444444,
              "#bd3786"
             ],
             [
              0.5555555555555556,
              "#d8576b"
             ],
             [
              0.6666666666666666,
              "#ed7953"
             ],
             [
              0.7777777777777778,
              "#fb9f3a"
             ],
             [
              0.8888888888888888,
              "#fdca26"
             ],
             [
              1,
              "#f0f921"
             ]
            ],
            "type": "histogram2dcontour"
           }
          ],
          "mesh3d": [
           {
            "colorbar": {
             "outlinewidth": 0,
             "ticks": ""
            },
            "type": "mesh3d"
           }
          ],
          "parcoords": [
           {
            "line": {
             "colorbar": {
              "outlinewidth": 0,
              "ticks": ""
             }
            },
            "type": "parcoords"
           }
          ],
          "pie": [
           {
            "automargin": true,
            "type": "pie"
           }
          ],
          "scatter": [
           {
            "fillpattern": {
             "fillmode": "overlay",
             "size": 10,
             "solidity": 0.2
            },
            "type": "scatter"
           }
          ],
          "scatter3d": [
           {
            "line": {
             "colorbar": {
              "outlinewidth": 0,
              "ticks": ""
             }
            },
            "marker": {
             "colorbar": {
              "outlinewidth": 0,
              "ticks": ""
             }
            },
            "type": "scatter3d"
           }
          ],
          "scattercarpet": [
           {
            "marker": {
             "colorbar": {
              "outlinewidth": 0,
              "ticks": ""
             }
            },
            "type": "scattercarpet"
           }
          ],
          "scattergeo": [
           {
            "marker": {
             "colorbar": {
              "outlinewidth": 0,
              "ticks": ""
             }
            },
            "type": "scattergeo"
           }
          ],
          "scattergl": [
           {
            "marker": {
             "colorbar": {
              "outlinewidth": 0,
              "ticks": ""
             }
            },
            "type": "scattergl"
           }
          ],
          "scattermapbox": [
           {
            "marker": {
             "colorbar": {
              "outlinewidth": 0,
              "ticks": ""
             }
            },
            "type": "scattermapbox"
           }
          ],
          "scatterpolar": [
           {
            "marker": {
             "colorbar": {
              "outlinewidth": 0,
              "ticks": ""
             }
            },
            "type": "scatterpolar"
           }
          ],
          "scatterpolargl": [
           {
            "marker": {
             "colorbar": {
              "outlinewidth": 0,
              "ticks": ""
             }
            },
            "type": "scatterpolargl"
           }
          ],
          "scatterternary": [
           {
            "marker": {
             "colorbar": {
              "outlinewidth": 0,
              "ticks": ""
             }
            },
            "type": "scatterternary"
           }
          ],
          "surface": [
           {
            "colorbar": {
             "outlinewidth": 0,
             "ticks": ""
            },
            "colorscale": [
             [
              0,
              "#0d0887"
             ],
             [
              0.1111111111111111,
              "#46039f"
             ],
             [
              0.2222222222222222,
              "#7201a8"
             ],
             [
              0.3333333333333333,
              "#9c179e"
             ],
             [
              0.4444444444444444,
              "#bd3786"
             ],
             [
              0.5555555555555556,
              "#d8576b"
             ],
             [
              0.6666666666666666,
              "#ed7953"
             ],
             [
              0.7777777777777778,
              "#fb9f3a"
             ],
             [
              0.8888888888888888,
              "#fdca26"
             ],
             [
              1,
              "#f0f921"
             ]
            ],
            "type": "surface"
           }
          ],
          "table": [
           {
            "cells": {
             "fill": {
              "color": "#EBF0F8"
             },
             "line": {
              "color": "white"
             }
            },
            "header": {
             "fill": {
              "color": "#C8D4E3"
             },
             "line": {
              "color": "white"
             }
            },
            "type": "table"
           }
          ]
         },
         "layout": {
          "annotationdefaults": {
           "arrowcolor": "#2a3f5f",
           "arrowhead": 0,
           "arrowwidth": 1
          },
          "autotypenumbers": "strict",
          "coloraxis": {
           "colorbar": {
            "outlinewidth": 0,
            "ticks": ""
           }
          },
          "colorscale": {
           "diverging": [
            [
             0,
             "#8e0152"
            ],
            [
             0.1,
             "#c51b7d"
            ],
            [
             0.2,
             "#de77ae"
            ],
            [
             0.3,
             "#f1b6da"
            ],
            [
             0.4,
             "#fde0ef"
            ],
            [
             0.5,
             "#f7f7f7"
            ],
            [
             0.6,
             "#e6f5d0"
            ],
            [
             0.7,
             "#b8e186"
            ],
            [
             0.8,
             "#7fbc41"
            ],
            [
             0.9,
             "#4d9221"
            ],
            [
             1,
             "#276419"
            ]
           ],
           "sequential": [
            [
             0,
             "#0d0887"
            ],
            [
             0.1111111111111111,
             "#46039f"
            ],
            [
             0.2222222222222222,
             "#7201a8"
            ],
            [
             0.3333333333333333,
             "#9c179e"
            ],
            [
             0.4444444444444444,
             "#bd3786"
            ],
            [
             0.5555555555555556,
             "#d8576b"
            ],
            [
             0.6666666666666666,
             "#ed7953"
            ],
            [
             0.7777777777777778,
             "#fb9f3a"
            ],
            [
             0.8888888888888888,
             "#fdca26"
            ],
            [
             1,
             "#f0f921"
            ]
           ],
           "sequentialminus": [
            [
             0,
             "#0d0887"
            ],
            [
             0.1111111111111111,
             "#46039f"
            ],
            [
             0.2222222222222222,
             "#7201a8"
            ],
            [
             0.3333333333333333,
             "#9c179e"
            ],
            [
             0.4444444444444444,
             "#bd3786"
            ],
            [
             0.5555555555555556,
             "#d8576b"
            ],
            [
             0.6666666666666666,
             "#ed7953"
            ],
            [
             0.7777777777777778,
             "#fb9f3a"
            ],
            [
             0.8888888888888888,
             "#fdca26"
            ],
            [
             1,
             "#f0f921"
            ]
           ]
          },
          "colorway": [
           "#636efa",
           "#EF553B",
           "#00cc96",
           "#ab63fa",
           "#FFA15A",
           "#19d3f3",
           "#FF6692",
           "#B6E880",
           "#FF97FF",
           "#FECB52"
          ],
          "font": {
           "color": "#2a3f5f"
          },
          "geo": {
           "bgcolor": "white",
           "lakecolor": "white",
           "landcolor": "#E5ECF6",
           "showlakes": true,
           "showland": true,
           "subunitcolor": "white"
          },
          "hoverlabel": {
           "align": "left"
          },
          "hovermode": "closest",
          "mapbox": {
           "style": "light"
          },
          "paper_bgcolor": "white",
          "plot_bgcolor": "#E5ECF6",
          "polar": {
           "angularaxis": {
            "gridcolor": "white",
            "linecolor": "white",
            "ticks": ""
           },
           "bgcolor": "#E5ECF6",
           "radialaxis": {
            "gridcolor": "white",
            "linecolor": "white",
            "ticks": ""
           }
          },
          "scene": {
           "xaxis": {
            "backgroundcolor": "#E5ECF6",
            "gridcolor": "white",
            "gridwidth": 2,
            "linecolor": "white",
            "showbackground": true,
            "ticks": "",
            "zerolinecolor": "white"
           },
           "yaxis": {
            "backgroundcolor": "#E5ECF6",
            "gridcolor": "white",
            "gridwidth": 2,
            "linecolor": "white",
            "showbackground": true,
            "ticks": "",
            "zerolinecolor": "white"
           },
           "zaxis": {
            "backgroundcolor": "#E5ECF6",
            "gridcolor": "white",
            "gridwidth": 2,
            "linecolor": "white",
            "showbackground": true,
            "ticks": "",
            "zerolinecolor": "white"
           }
          },
          "shapedefaults": {
           "line": {
            "color": "#2a3f5f"
           }
          },
          "ternary": {
           "aaxis": {
            "gridcolor": "white",
            "linecolor": "white",
            "ticks": ""
           },
           "baxis": {
            "gridcolor": "white",
            "linecolor": "white",
            "ticks": ""
           },
           "bgcolor": "#E5ECF6",
           "caxis": {
            "gridcolor": "white",
            "linecolor": "white",
            "ticks": ""
           }
          },
          "title": {
           "x": 0.05
          },
          "xaxis": {
           "automargin": true,
           "gridcolor": "white",
           "linecolor": "white",
           "ticks": "",
           "title": {
            "standoff": 15
           },
           "zerolinecolor": "white",
           "zerolinewidth": 2
          },
          "yaxis": {
           "automargin": true,
           "gridcolor": "white",
           "linecolor": "white",
           "ticks": "",
           "title": {
            "standoff": 15
           },
           "zerolinecolor": "white",
           "zerolinewidth": 2
          }
         }
        }
       }
      }
     },
     "metadata": {},
     "output_type": "display_data"
    },
    {
     "ename": "",
     "evalue": "",
     "output_type": "error",
     "traceback": [
      "\u001b[1;31mFailed to start the Kernel. \n",
      "The 'python397jvsc74a57bd056f4995ff0f07fb23043dc681848bb9f3b1df43f8f1441a8a42cc2a23d5a426a' kernel is not available. Please pick another suitable kernel instead, or install that kernel. \n",
      "View Jupyter <a href='command:jupyter.viewOutput'>log</a> for further details."
     ]
    }
   ],
   "source": [
    "import plotly.express as px\n",
    "fig = px.scatter_3d(reduced_df[::10000], x='PC1', y='PC2', z='PC3',\n",
    "                    color='timeline.role')\n",
    "fig.show()"
   ]
  },
  {
   "cell_type": "code",
   "execution_count": null,
   "metadata": {},
   "outputs": [
    {
     "ename": "",
     "evalue": "",
     "output_type": "error",
     "traceback": [
      "\u001b[1;31mFailed to start the Kernel. \n",
      "The 'python397jvsc74a57bd056f4995ff0f07fb23043dc681848bb9f3b1df43f8f1441a8a42cc2a23d5a426a' kernel is not available. Please pick another suitable kernel instead, or install that kernel. \n",
      "View Jupyter <a href='command:jupyter.viewOutput'>log</a> for further details."
     ]
    }
   ],
   "source": [
    "for champ_id in reduced_df[\"championId\"].value_counts().index[:10]:\n",
    "    fig = px.scatter_3d(reduced_df[reduced_df[\"championId\"] == 3], x='PC1', y='PC2', z='PC3',\n",
    "                    color='timeline.role', title=str(champ_id))\n",
    "    fig.show()"
   ]
  }
 ],
 "metadata": {
  "interpreter": {
   "hash": "56f4995ff0f07fb23043dc681848bb9f3b1df43f8f1441a8a42cc2a23d5a426a"
  },
  "kernelspec": {
   "display_name": "Python 3.9.7 ('projecte_dades_env': venv)",
   "language": "python",
   "name": "python3"
  },
  "language_info": {
   "codemirror_mode": {
    "name": "ipython",
    "version": 3
   },
   "file_extension": ".py",
   "mimetype": "text/x-python",
   "name": "python",
   "nbconvert_exporter": "python",
   "pygments_lexer": "ipython3",
   "version": "3.9.7"
  },
  "orig_nbformat": 4
 },
 "nbformat": 4,
 "nbformat_minor": 2
}
