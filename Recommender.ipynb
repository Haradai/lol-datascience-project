{
 "cells": [
  {
   "cell_type": "code",
   "execution_count": 3,
   "metadata": {},
   "outputs": [],
   "source": [
    "import pandas as pd\n",
    "final_dataframe = pd.read_csv(\"final_dataframe.csv\")\n",
    "final_dataframe = final_dataframe.set_index('id')"
   ]
  },
  {
   "cell_type": "code",
   "execution_count": 9,
   "metadata": {},
   "outputs": [],
   "source": [
    "import tkinter as tk\n",
    "\n",
    "root= tk.Tk()\n",
    "root.title('Recommender System')\n",
    "\n",
    "canvas1 = tk.Canvas(root, width = 400, height = 500, bg=\"light pink\")\n",
    "canvas1.pack()\n",
    "\n",
    "entry1 = tk.Entry (root) \n",
    "canvas1.create_window(200, 100, window=entry1)\n",
    "\n",
    "label = tk.Label(root, text= \"Introduce your champion's ID: \", background=\"light pink\")\n",
    "canvas1.create_window(200, 60, window=label)\n",
    "\n",
    "def get ():  \n",
    "\n",
    "    name = (entry1.get()).capitalize()\n",
    "\n",
    "    for i in range(143):\n",
    "\n",
    "        p = final_dataframe[\"name\"].index[i]\n",
    "        \n",
    "        if final_dataframe.at[int(p),'name'] == name:\n",
    "            id = p\n",
    "            \n",
    "\n",
    "    label = tk.Label(root, text= \"Recommended items:\", background=\"light pink\")\n",
    "    canvas1.create_window(200, 170, window=label)\n",
    "\n",
    "    label = tk.Label(root, text= \"Recommended spells:\", background=\"light pink\")\n",
    "    canvas1.create_window(200, 320, window=label)\n",
    "\n",
    "    num = 190\n",
    "    \n",
    "    for i in range(6):\n",
    "\n",
    "        label = tk.Label( root, text= \"- \"+str(final_dataframe.at[int(id),\"nameitem\"+str(i)]), background=\"light pink\")\n",
    "        canvas1.create_window(200, num, window=label)\n",
    "        num+=20\n",
    "\n",
    "    num = 340\n",
    "    \n",
    "    for i in range(2):\n",
    "\n",
    "        label = tk.Label( root, text= \"- \"+str(final_dataframe.at[int(id),\"spellname\"+str(i+1)]), background=\"light pink\")\n",
    "        canvas1.create_window(200, num, window=label)\n",
    "        num+=20\n",
    "\n",
    "    \n",
    "button1 = tk.Button(text='Go!', command=get, background= \"medium violet red\",foreground=\"white\")\n",
    "canvas1.create_window(200, 135, window=button1)\n",
    "\n",
    "root.mainloop()\n"
   ]
  }
 ],
 "metadata": {
  "interpreter": {
   "hash": "0d1831cf2689b5dba254f99187bb279cf01a82452f16d45465929cbbf5686504"
  },
  "kernelspec": {
   "display_name": "Python 3.9.12 64-bit (windows store)",
   "language": "python",
   "name": "python3"
  },
  "language_info": {
   "codemirror_mode": {
    "name": "ipython",
    "version": 3
   },
   "file_extension": ".py",
   "mimetype": "text/x-python",
   "name": "python",
   "nbconvert_exporter": "python",
   "pygments_lexer": "ipython3",
   "version": "3.9.12"
  },
  "orig_nbformat": 4
 },
 "nbformat": 4,
 "nbformat_minor": 2
}
